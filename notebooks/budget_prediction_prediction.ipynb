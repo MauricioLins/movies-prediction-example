{
 "cells": [
  {
   "cell_type": "code",
   "execution_count": 1,
   "metadata": {},
   "outputs": [],
   "source": [
    "#import sys\n",
    "#sys.path.append('jars/mleap/python')\n",
    "#import mleap.pyspark\n",
    "#from mleap.pyspark.spark_support import SimpleSparkSerializer\n",
    "from pyspark import SparkContext\n",
    "from pyspark.sql import SparkSession\n",
    "from pyspark.sql.functions import *\n",
    "from pyspark.ml.evaluation import RegressionEvaluator\n",
    "from pyspark.ml.feature import VectorAssembler, StringIndexer, OneHotEncoder, StandardScaler, RFormula, VectorIndexer\n",
    "from pyspark.ml.regression import GBTRegressor, GBTRegressionModel\n",
    "from pyspark.ml.regression import RandomForestRegressor, DecisionTreeRegressor\n",
    "from pyspark.ml import Pipeline, PipelineModel\n",
    "from pyspark.sql.types import *\n",
    "from pyspark.ml.linalg import Vectors\n",
    "import json"
   ]
  },
  {
   "cell_type": "code",
   "execution_count": 2,
   "metadata": {},
   "outputs": [],
   "source": [
    "SparkContext.setSystemProperty('spark.driver.memory', '2g')\n",
    "SparkContext.setSystemProperty('spark.driver.cores', '3')\n",
    "SparkContext.setSystemProperty('spark.executor.memory', '2g')\n",
    "SparkContext.setSystemProperty('spark.executor.cores', '3')\n",
    "SparkContext.setSystemProperty('spark.driver.memoryOverhead', '1g')\n",
    "SparkContext.setSystemProperty('spark.storage.memoryFraction', '0.9')"
   ]
  },
  {
   "cell_type": "code",
   "execution_count": 3,
   "metadata": {},
   "outputs": [
    {
     "name": "stdout",
     "output_type": "stream",
     "text": [
      "root\n",
      " |-- idmovie: integer (nullable = true)\n",
      " |-- runtime: integer (nullable = true)\n",
      " |-- director: string (nullable = true)\n",
      " |-- genres: string (nullable = true)\n",
      " |-- rating: double (nullable = true)\n",
      " |-- budgetvalue: long (nullable = true)\n",
      "\n"
     ]
    }
   ],
   "source": [
    "data_df = spark.read.csv('../abt/data/*',header=True, inferSchema=True)\n",
    "data_df.printSchema()"
   ]
  },
  {
   "cell_type": "code",
   "execution_count": 10,
   "metadata": {},
   "outputs": [
    {
     "data": {
      "text/plain": [
       "DataFrame[idmovie: int, runtime: int, director: string, genres: string, rating: double, budgetvalue: bigint, director_indexed: double, genres_indexed: double, director_indexed_encoded: vector, genres_indexed_encoded: vector, continuous_features: vector, features: vector]"
      ]
     },
     "execution_count": 10,
     "metadata": {},
     "output_type": "execute_result"
    }
   ],
   "source": [
    "### GET A NEW ROW AND APPLY AN UNION WITH THE TRAINED DATASET\n",
    "### IT APPLIES THE FEATURE ENGINEERING\n",
    "\n",
    "d = {'idmovie':77777,'runtime':90,  'director':'Alfred Hitchcock', 'genres':'Drama','rating':3.5,'budgetvalue':0}#\\\n",
    "#    {'idmovie':88888,'runtime':90,  'director':'Paul Mazursky', 'genres':'Romance','rating':3.5,'budgetvalue':99999999},\\\n",
    "#    {'idmovie':99999,'runtime':100, 'director':'Aldred Hitcock', 'genres':'Fiction','rating':2.4,'budgetvalue':10100111},\\\n",
    "\n",
    "\n",
    "schema = StructType([StructField(\"idmovie\", IntegerType(), True),\n",
    "                    StructField(\"runtime\", IntegerType(), True),\n",
    "                    StructField(\"director\", StringType(), True),\n",
    "                    StructField(\"genres\", StringType(), True),\n",
    "                    StructField(\"rating\", DoubleType(), True),\n",
    "                    StructField(\"budgetvalue\", LongType(), True),\n",
    "                   ])\n",
    "\n",
    "djson = [json.dumps(d)]\n",
    "dRDD  = sc.parallelize(djson)\n",
    "\n",
    "ddf  = spark.read.json(dRDD, schema=schema)\n",
    "\n",
    "ddf_union = ddf.unionAll(data_df)\n",
    "\n",
    "gbt_pipeline        = Pipeline.load('../budget_prediction_pipeline/')\n",
    "gbt_pipeline_loaded = gbt_pipeline.fit(ddf_union)\n",
    "ddf_features_df     = gbt_pipeline_loaded.transform(ddf_union)\n",
    "\n",
    "#ddf_features_df1 = ddf_features_df1.filter('idmovie = 888888')#.show(truncate=False)\n",
    "ddf_features_df\n"
   ]
  },
  {
   "cell_type": "code",
   "execution_count": 11,
   "metadata": {},
   "outputs": [
    {
     "name": "stdout",
     "output_type": "stream",
     "text": [
      "1\n",
      "+-------+----------------+------+-------+----------+\n",
      "|idmovie|        director|genres|runtime|prediction|\n",
      "+-------+----------------+------+-------+----------+\n",
      "|  77777|Alfred Hitchcock| Drama|     90|3686936.58|\n",
      "+-------+----------------+------+-------+----------+\n",
      "\n"
     ]
    }
   ],
   "source": [
    "### LOAD THE MODEL AND PREDICT\n",
    "gbt_model_load  = GBTRegressionModel.load('../gbt_model/')\n",
    "gbt_model_pred  = gbt_model_load.transform(ddf_features_df.filter('idmovie = 77777'))\n",
    "\n",
    "#gbt_model_pred.printSchema()\n",
    "print(gbt_model_pred.count())\n",
    "gbt_model_pred.selectExpr('idmovie','director','genres', 'runtime','cast(prediction as Decimal(20,2)) as prediction').show()\n"
   ]
  },
  {
   "cell_type": "code",
   "execution_count": null,
   "metadata": {},
   "outputs": [],
   "source": [
    "### MLEAP SERIALIZATION\n",
    "#gbt_model.serializeToBundle(\"jar:file:jars/movies_gbt.zip\", gbt_model.transform(data_features_df))"
   ]
  },
  {
   "cell_type": "code",
   "execution_count": null,
   "metadata": {},
   "outputs": [],
   "source": []
  },
  {
   "cell_type": "code",
   "execution_count": null,
   "metadata": {},
   "outputs": [],
   "source": []
  },
  {
   "cell_type": "code",
   "execution_count": null,
   "metadata": {},
   "outputs": [],
   "source": []
  },
  {
   "cell_type": "code",
   "execution_count": null,
   "metadata": {},
   "outputs": [],
   "source": []
  },
  {
   "cell_type": "code",
   "execution_count": null,
   "metadata": {},
   "outputs": [],
   "source": []
  },
  {
   "cell_type": "code",
   "execution_count": null,
   "metadata": {},
   "outputs": [],
   "source": []
  },
  {
   "cell_type": "code",
   "execution_count": null,
   "metadata": {},
   "outputs": [],
   "source": []
  },
  {
   "cell_type": "code",
   "execution_count": null,
   "metadata": {},
   "outputs": [],
   "source": []
  }
 ],
 "metadata": {
  "kernelspec": {
   "display_name": "Python 3",
   "language": "python",
   "name": "python3"
  },
  "language_info": {
   "codemirror_mode": {
    "name": "ipython",
    "version": 3
   },
   "file_extension": ".py",
   "mimetype": "text/x-python",
   "name": "python",
   "nbconvert_exporter": "python",
   "pygments_lexer": "ipython3",
   "version": "3.6.6"
  }
 },
 "nbformat": 4,
 "nbformat_minor": 2
}
