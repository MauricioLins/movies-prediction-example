{
 "cells": [
  {
   "cell_type": "code",
   "execution_count": 15,
   "metadata": {},
   "outputs": [],
   "source": [
    "from kafka import KafkaProducer\n",
    "from kafka.errors import KafkaError\n",
    "import random"
   ]
  },
  {
   "cell_type": "code",
   "execution_count": 2,
   "metadata": {},
   "outputs": [],
   "source": [
    "producer = KafkaProducer(bootstrap_servers=['KAFKASERVER:9092'],)"
   ]
  },
  {
   "cell_type": "code",
   "execution_count": 34,
   "metadata": {},
   "outputs": [],
   "source": [
    "topic     = 'test'\n",
    "vkey      = 'testium'\n",
    "vvalue    = \"{'key':'mau', 'value':'mel'}\"\n",
    "partition = 0"
   ]
  },
  {
   "cell_type": "code",
   "execution_count": 35,
   "metadata": {},
   "outputs": [],
   "source": [
    "future = producer.send(topic, key=str.encode(str(vkey)), value=str.encode(str(vvalue)), partition=partition)"
   ]
  },
  {
   "cell_type": "code",
   "execution_count": 8,
   "metadata": {},
   "outputs": [
    {
     "data": {
      "text/plain": [
       "RecordMetadata(topic='test', partition=0, topic_partition=TopicPartition(topic='test', partition=0), offset=0, timestamp=1586349522269, checksum=None, serialized_key_size=7, serialized_value_size=28, serialized_header_size=-1)"
      ]
     },
     "execution_count": 8,
     "metadata": {},
     "output_type": "execute_result"
    }
   ],
   "source": [
    "future.get(timeout=10)"
   ]
  },
  {
   "cell_type": "code",
   "execution_count": 13,
   "metadata": {},
   "outputs": [],
   "source": [
    "def kafkaProduc(topic, vkey, vvalue):\n",
    "    topic_partitions = [0,1]\n",
    "    partition = random.choice(topic_partitions)\n",
    "    try:\n",
    "        producer = KafkaProducer(bootstrap_servers=['KAFKASERVER:9092'], retries=5)\n",
    "        future = producer.send(topic, key=str.encode(str(vkey)), value=str.encode(str(vvalue)), partition=partition)\n",
    "        record_metadata = future.get(timeout=10)\n",
    "    except KafkaError as nm:\n",
    "        logs.kafkaLog('ERROR: ' + str(vfile), str(nm),'err')\n",
    "        pass\n",
    "    return"
   ]
  },
  {
   "cell_type": "code",
   "execution_count": 18,
   "metadata": {},
   "outputs": [
    {
     "name": "stdout",
     "output_type": "stream",
     "text": [
      "1\n"
     ]
    }
   ],
   "source": [
    "topic_partitions = [0,1]\n",
    "partition = random.choice(topic_partitions)\n",
    "print(partition)"
   ]
  },
  {
   "cell_type": "code",
   "execution_count": 19,
   "metadata": {},
   "outputs": [],
   "source": [
    "##### CONSUMER"
   ]
  },
  {
   "cell_type": "code",
   "execution_count": 45,
   "metadata": {},
   "outputs": [],
   "source": [
    "from kafka import KafkaConsumer"
   ]
  },
  {
   "cell_type": "code",
   "execution_count": 46,
   "metadata": {},
   "outputs": [],
   "source": [
    "consumer = KafkaConsumer('moviesdata', group_id='test', bootstrap_servers=['KAFKASERVER:9092'], auto_offset_reset='earliest')"
   ]
  },
  {
   "cell_type": "code",
   "execution_count": 47,
   "metadata": {},
   "outputs": [
    {
     "name": "stdout",
     "output_type": "stream",
     "text": [
      "b\"{'Reviews': '0', 'Critic': '0', 'Country': 'Italy|Spain', 'Language': 'Italian|Spanish|English', 'Runtime': '114', 'Actors': '', 'IdMovie': '127236', 'IdIMDB': '0306456', 'BudgetCurrency': 'NA', 'BudgetValue': 0, 'GrossCurrency': 'NA', 'GrossValue': 0, 'OpeningWeekendCurrency': 'NA', 'OpeningWeekendValue': 0}\"\n",
      "b\"{'Reviews': '0', 'Critic': '0', 'Country': 'Italy', 'Language': 'Sardinian|French|Italian', 'Runtime': '107', 'Actors': '', 'IdMovie': '127238', 'IdIMDB': '0389778', 'BudgetCurrency': 'NA', 'BudgetValue': 0, 'GrossCurrency': 'NA', 'GrossValue': 0, 'OpeningWeekendCurrency': 'NA', 'OpeningWeekendValue': 0}\"\n",
      "b\"{'Reviews': '0', 'Critic': '0', 'Country': 'Italy', 'Language': 'Italian|Sardinian', 'Runtime': '100', 'Actors': '', 'IdMovie': '127240', 'IdIMDB': '2384642', 'BudgetCurrency': 'NA', 'BudgetValue': 0, 'GrossCurrency': 'NA', 'GrossValue': 0, 'OpeningWeekendCurrency': 'NA', 'OpeningWeekendValue': 0}\"\n",
      "b\"{'Director': 'Hiner Saleem', 'Writers': 'Hiner Saleem,Antoine Lacomblez', 'Reviews': '14', 'Critic': '37', 'Country': 'Iraq|France|Germany', 'Language': 'Kurdish|Arabic|Turkish', 'BudgetCurrency': 'E', 'BudgetValue': 'UR2,600,000', 'Runtime': '100', 'Actors': '', 'IdMovie': '127244', 'IdIMDB': '2875926', 'GrossCurrency': 'NA', 'GrossValue': 0, 'OpeningWeekendCurrency': 'NA', 'OpeningWeekendValue': 0}\"\n",
      "b\"{'Reviews': '0', 'Critic': '0', 'Country': 'Norway', 'Language': 'Norwegian|Danish|English', 'BudgetCurrency': 'N', 'BudgetValue': 'OK8,500,000', 'Actors': '', 'IdMovie': '127252', 'IdIMDB': '2071582', 'Runtime': 0, 'GrossCurrency': 'NA', 'GrossValue': 0, 'OpeningWeekendCurrency': 'NA', 'OpeningWeekendValue': 0}\"\n",
      "b\"{'Reviews': '0', 'Critic': '0', 'Country': 'Germany', 'Language': 'German|English|Pushto|Dari', 'Runtime': '98', 'Actors': '', 'IdMovie': '127254', 'IdIMDB': '3032028', 'BudgetCurrency': 'NA', 'BudgetValue': 0, 'GrossCurrency': 'NA', 'GrossValue': 0, 'OpeningWeekendCurrency': 'NA', 'OpeningWeekendValue': 0}\"\n",
      "b\"{'Reviews': '0', 'Critic': '0', 'Country': 'France|West Germany', 'Language': 'French|German', 'Runtime': '103', 'Actors': '', 'IdMovie': '127256', 'IdIMDB': '0073864', 'BudgetCurrency': 'NA', 'BudgetValue': 0, 'GrossCurrency': 'NA', 'GrossValue': 0, 'OpeningWeekendCurrency': 'NA', 'OpeningWeekendValue': 0}\"\n",
      "b\"{'Reviews': '0', 'Critic': '0', 'Country': 'Switzerland|France|Italy', 'Language': 'French', 'Runtime': '89', 'Actors': '', 'IdMovie': '127260', 'IdIMDB': '0064165', 'BudgetCurrency': 'NA', 'BudgetValue': 0, 'GrossCurrency': 'NA', 'GrossValue': 0, 'OpeningWeekendCurrency': 'NA', 'OpeningWeekendValue': 0}\"\n",
      "b\"{'Director': 'Ulrich Seidl', 'Writers': 'Veronika Franz,Ulrich Seidl', 'Reviews': '7', 'Critic': '63', 'Country': 'Austria|Germany', 'Language': 'German', 'Runtime': '81', 'Actors': '', 'IdMovie': '127266', 'IdIMDB': '3962828', 'BudgetCurrency': 'NA', 'BudgetValue': 0, 'GrossCurrency': 'NA', 'GrossValue': 0, 'OpeningWeekendCurrency': 'NA', 'OpeningWeekendValue': 0}\"\n",
      "b\"{'Reviews': '0', 'Critic': '0', 'Country': 'UK', 'Language': 'English', 'Runtime': '83', 'Actors': '', 'IdMovie': '127268', 'IdIMDB': '2954184', 'BudgetCurrency': 'NA', 'BudgetValue': 0, 'GrossCurrency': 'NA', 'GrossValue': 0, 'OpeningWeekendCurrency': 'NA', 'OpeningWeekendValue': 0}\"\n",
      "b\"{'Reviews': '0', 'Critic': '0', 'Country': 'UK|Ireland', 'Language': 'English', 'Runtime': '105', 'Actors': '', 'IdMovie': '127270', 'IdIMDB': '0117969', 'BudgetCurrency': 'NA', 'BudgetValue': 0, 'GrossCurrency': 'NA', 'GrossValue': 0, 'OpeningWeekendCurrency': 'NA', 'OpeningWeekendValue': 0}\"\n",
      "b\"{'Reviews': '0', 'Critic': '0', 'Country': 'USA', 'Language': 'English', 'Actors': '', 'IdMovie': '127272', 'IdIMDB': '0142634', 'Runtime': 0, 'BudgetCurrency': 'NA', 'BudgetValue': 0, 'GrossCurrency': 'NA', 'GrossValue': 0, 'OpeningWeekendCurrency': 'NA', 'OpeningWeekendValue': 0}\"\n",
      "b\"{'Reviews': '0', 'Critic': '0', 'Country': 'Canada', 'Language': 'English', 'Actors': '', 'IdMovie': '127276', 'IdIMDB': '0248110', 'Runtime': 0, 'BudgetCurrency': 'NA', 'BudgetValue': 0, 'GrossCurrency': 'NA', 'GrossValue': 0, 'OpeningWeekendCurrency': 'NA', 'OpeningWeekendValue': 0}\"\n",
      "b\"{'Reviews': '0', 'Critic': '0', 'Country': 'USA', 'Language': 'English', 'Runtime': '105', 'Actors': '', 'IdMovie': '127278', 'IdIMDB': '0108555', 'BudgetCurrency': 'NA', 'BudgetValue': 0, 'GrossCurrency': 'NA', 'GrossValue': 0, 'OpeningWeekendCurrency': 'NA', 'OpeningWeekendValue': 0}\"\n",
      "b\"{'Reviews': '0', 'Critic': '0', 'Country': 'UK|France', 'Language': 'English|French|German', 'Actors': '', 'IdMovie': '127280', 'IdIMDB': '0113249', 'Runtime': 0, 'BudgetCurrency': 'NA', 'BudgetValue': 0, 'GrossCurrency': 'NA', 'GrossValue': 0, 'OpeningWeekendCurrency': 'NA', 'OpeningWeekendValue': 0}\"\n",
      "b\"{'Director': 'Gary Yates', 'Writers': 'George F. Walker,George F. Walker', 'Reviews': '5', 'Critic': '17', 'Country': 'Canada|UK', 'Language': 'English|French|Serbian', 'BudgetCurrency': 'C', 'BudgetValue': 'AD8,000,000', 'Runtime': '88', 'Actors': '', 'IdMovie': '127284', 'IdIMDB': '0425295', 'GrossCurrency': 'NA', 'GrossValue': 0, 'OpeningWeekendCurrency': 'NA', 'OpeningWeekendValue': 0}\"\n",
      "b\"{'Reviews': '0', 'Critic': '0', 'Country': 'UK', 'Language': 'English', 'Runtime': '180', 'Actors': '', 'IdMovie': '127288', 'IdIMDB': '0115288', 'BudgetCurrency': 'NA', 'BudgetValue': 0, 'GrossCurrency': 'NA', 'GrossValue': 0, 'OpeningWeekendCurrency': 'NA', 'OpeningWeekendValue': 0}\"\n",
      "b\"{'Reviews': '0', 'Critic': '0', 'Country': 'USA|Canada', 'Language': 'English', 'Runtime': '98', 'Actors': '', 'IdMovie': '127290', 'IdIMDB': '0122946', 'BudgetCurrency': 'NA', 'BudgetValue': 0, 'GrossCurrency': 'NA', 'GrossValue': 0, 'OpeningWeekendCurrency': 'NA', 'OpeningWeekendValue': 0}\"\n",
      "b\"{'Director': 'Timothy A. Chey (as Tim Chey)', 'Reviews': '389', 'Critic': '15', 'Country': 'USA|Australia', 'Language': 'English', 'Runtime': '106', 'Actors': '', 'IdMovie': '127296', 'IdIMDB': '1615075', 'BudgetCurrency': 'NA', 'BudgetValue': 0, 'GrossCurrency': 'NA', 'GrossValue': 0, 'OpeningWeekendCurrency': 'NA', 'OpeningWeekendValue': 0}\"\n",
      "b\"{'Writers': 'Guy Maddin,Evan Johnson |4 more credits\\\\xa0\\xc2\\xbb', 'Reviews': '21', 'Critic': '90', 'Country': 'Canada', 'Language': 'English', 'Runtime': '130', 'Actors': '', 'IdMovie': '127311', 'IdIMDB': '3066630', 'BudgetCurrency': 'NA', 'BudgetValue': 0, 'GrossCurrency': 'NA', 'GrossValue': 0, 'OpeningWeekendCurrency': 'NA', 'OpeningWeekendValue': 0}\"\n",
      "b\"{'Director': 'Jabbar Raisani', 'Writers': 'Blake Clifton,Jabbar Raisani', 'Reviews': '83', 'Critic': '42', 'Country': 'UK|South Africa', 'Language': 'English', 'BudgetCurrency': '$', 'BudgetValue': '4,000,000', 'Runtime': '90', 'Actors': '', 'IdMovie': '127315', 'IdIMDB': '2474972', 'GrossCurrency': 'NA', 'GrossValue': 0, 'OpeningWeekendCurrency': 'NA', 'OpeningWeekendValue': 0}\"\n",
      "b\"{'Reviews': '0', 'Critic': '0', 'Country': 'Poland|Italy|Russia', 'Language': 'Polish|English|Italian|Russian', 'Runtime': '117', 'Actors': '', 'IdMovie': '127317', 'IdIMDB': '3997248', 'BudgetCurrency': 'NA', 'BudgetValue': 0, 'GrossCurrency': 'NA', 'GrossValue': 0, 'OpeningWeekendCurrency': 'NA', 'OpeningWeekendValue': 0}\"\n",
      "b\"{'Director': 'Erik Van Looy', 'Writers': 'Bart De Pauw,Wesley Strick', 'Reviews': '131', 'Critic': '94', 'Country': 'Belgium|USA', 'Language': 'English', 'BudgetCurrency': '$', 'BudgetValue': '14,000,000', 'Runtime': '108', 'Actors': '', 'IdMovie': '127319', 'IdIMDB': '1850397', 'GrossCurrency': 'NA', 'GrossValue': 0, 'OpeningWeekendCurrency': 'NA', 'OpeningWeekendValue': 0}\"\n",
      "b\"{'Reviews': '0', 'Critic': '0', 'Country': 'India|Thailand', 'Language': 'English|Thai|Hindi|Malay', 'Runtime': '88', 'Actors': '', 'IdMovie': '127327', 'IdIMDB': '0815890', 'BudgetCurrency': 'NA', 'BudgetValue': 0, 'GrossCurrency': 'NA', 'GrossValue': 0, 'OpeningWeekendCurrency': 'NA', 'OpeningWeekendValue': 0}\"\n",
      "b\"{'Reviews': '0', 'Critic': '0', 'Country': 'USA', 'Language': 'English', 'BudgetCurrency': '$', 'BudgetValue': '450,000', 'Runtime': '86', 'Actors': '', 'IdMovie': '127331', 'IdIMDB': '0044202', 'GrossCurrency': 'NA', 'GrossValue': 0, 'OpeningWeekendCurrency': 'NA', 'OpeningWeekendValue': 0}\"\n",
      "b\"{'Reviews': '0', 'Critic': '0', 'Country': 'USA', 'Language': 'English', 'Runtime': '102', 'Actors': '', 'IdMovie': '127337', 'IdIMDB': '0060209', 'BudgetCurrency': 'NA', 'BudgetValue': 0, 'GrossCurrency': 'NA', 'GrossValue': 0, 'OpeningWeekendCurrency': 'NA', 'OpeningWeekendValue': 0}\"\n",
      "b\"{'Reviews': '0', 'Critic': '0', 'Country': 'USA', 'Language': 'English', 'Runtime': '95', 'Actors': '', 'IdMovie': '127339', 'IdIMDB': '0082208', 'BudgetCurrency': 'NA', 'BudgetValue': 0, 'GrossCurrency': 'NA', 'GrossValue': 0, 'OpeningWeekendCurrency': 'NA', 'OpeningWeekendValue': 0}\"\n",
      "b\"{'Director': 'Lionel C. Martin', 'Writers': 'Tony DeCamillis,Louis J. Pearlman', 'Reviews': '32', 'Critic': '3', 'Country': 'USA', 'Language': 'English', 'BudgetCurrency': '$', 'BudgetValue': '20,300,000', 'Runtime': '93', 'Actors': '', 'IdMovie': '127341', 'IdIMDB': '0201694', 'GrossCurrency': 'NA', 'GrossValue': 0, 'OpeningWeekendCurrency': 'NA', 'OpeningWeekendValue': 0}\"\n",
      "b\"{'Reviews': '0', 'Critic': '0', 'Country': 'USA', 'Language': 'English', 'Runtime': '92', 'Actors': '', 'IdMovie': '127345', 'IdIMDB': '0107964', 'BudgetCurrency': 'NA', 'BudgetValue': 0, 'GrossCurrency': 'NA', 'GrossValue': 0, 'OpeningWeekendCurrency': 'NA', 'OpeningWeekendValue': 0}\"\n",
      "b\"{'Reviews': '0', 'Critic': '0', 'Country': 'USA', 'Language': 'English', 'BudgetCurrency': '$', 'BudgetValue': '302,000', 'Runtime': '82', 'Actors': '', 'IdMovie': '127347', 'IdIMDB': '0022425', 'GrossCurrency': 'NA', 'GrossValue': 0, 'OpeningWeekendCurrency': 'NA', 'OpeningWeekendValue': 0}\"\n",
      "b\"{'Reviews': '0', 'Critic': '0', 'Country': 'France|Kenya', 'Actors': '', 'IdMovie': '127371', 'IdIMDB': '0348847', 'Runtime': 0, 'BudgetCurrency': 'NA', 'BudgetValue': 0, 'GrossCurrency': 'NA', 'GrossValue': 0, 'OpeningWeekendCurrency': 'NA', 'OpeningWeekendValue': 0}\"\n",
      "b\"{'Reviews': '0', 'Critic': '0', 'Country': 'USA', 'Language': 'English', 'Runtime': '69', 'Actors': '', 'IdMovie': '127433', 'IdIMDB': '0051725', 'BudgetCurrency': 'NA', 'BudgetValue': 0, 'GrossCurrency': 'NA', 'GrossValue': 0, 'OpeningWeekendCurrency': 'NA', 'OpeningWeekendValue': 0}\"\n",
      "b\"{'Director': 'Rory Kennedy', 'Writers': 'Mark Bailey,Keven McAlester', 'Reviews': '23', 'Critic': '34', 'Country': 'USA', 'Language': 'English', 'Runtime': '98', 'Actors': '', 'IdMovie': '127441', 'IdIMDB': '3279124', 'BudgetCurrency': 'NA', 'BudgetValue': 0, 'GrossCurrency': 'NA', 'GrossValue': 0, 'OpeningWeekendCurrency': 'NA', 'OpeningWeekendValue': 0}\"\n",
      "b\"{'Reviews': '0', 'Critic': '0', 'Country': 'USA', 'Language': 'English', 'Runtime': '90', 'Actors': '', 'IdMovie': '127445', 'IdIMDB': '1580427', 'BudgetCurrency': 'NA', 'BudgetValue': 0, 'GrossCurrency': 'NA', 'GrossValue': 0, 'OpeningWeekendCurrency': 'NA', 'OpeningWeekendValue': 0}\"\n",
      "b\"{'Reviews': '0', 'Critic': '0', 'Country': 'USA', 'Language': 'English', 'Runtime': '89', 'Actors': '', 'IdMovie': '127447', 'IdIMDB': '0087132', 'BudgetCurrency': 'NA', 'BudgetValue': 0, 'GrossCurrency': 'NA', 'GrossValue': 0, 'OpeningWeekendCurrency': 'NA', 'OpeningWeekendValue': 0}\"\n",
      "b\"{'Reviews': '0', 'Critic': '0', 'Country': 'Poland', 'Language': 'Polish', 'BudgetCurrency': 'P', 'BudgetValue': 'LN6,500,000', 'Runtime': '112', 'Actors': '', 'IdMovie': '127451', 'IdIMDB': '3667610', 'GrossCurrency': 'NA', 'GrossValue': 0, 'OpeningWeekendCurrency': 'NA', 'OpeningWeekendValue': 0}\"\n",
      "b\"{'Reviews': '0', 'Critic': '0', 'Country': 'Poland', 'Language': 'Polish|Russian', 'Runtime': '110', 'Actors': '', 'IdMovie': '127453', 'IdIMDB': '3646722', 'BudgetCurrency': 'NA', 'BudgetValue': 0, 'GrossCurrency': 'NA', 'GrossValue': 0, 'OpeningWeekendCurrency': 'NA', 'OpeningWeekendValue': 0}\"\n",
      "b\"{'Director': 'Pedro Costa', 'Reviews': '1', 'Critic': '15', 'Country': 'Portugal|France|Germany', 'Language': 'Portuguese|Kabuverdianu', 'Runtime': '110', 'Actors': '', 'IdMovie': '127455', 'IdIMDB': '0109384', 'BudgetCurrency': 'NA', 'BudgetValue': 0, 'GrossCurrency': 'NA', 'GrossValue': 0, 'OpeningWeekendCurrency': 'NA', 'OpeningWeekendValue': 0}\"\n",
      "b\"{'Reviews': '0', 'Critic': '0', 'Country': 'Denmark|Norway|Sweden', 'Language': 'Danish', 'Actors': '', 'IdMovie': '127494', 'IdIMDB': '0105436', 'Runtime': 0, 'BudgetCurrency': 'NA', 'BudgetValue': 0, 'GrossCurrency': 'NA', 'GrossValue': 0, 'OpeningWeekendCurrency': 'NA', 'OpeningWeekendValue': 0}\"\n",
      "b\"{'Reviews': '0', 'Critic': '0', 'Country': 'Germany|Norway|Sweden', 'Language': 'Norwegian', 'Runtime': '180', 'Actors': '', 'IdMovie': '127496', 'IdIMDB': '0113576', 'BudgetCurrency': 'NA', 'BudgetValue': 0, 'GrossCurrency': 'NA', 'GrossValue': 0, 'OpeningWeekendCurrency': 'NA', 'OpeningWeekendValue': 0}\"\n",
      "b\"{'Director': 'Ryan Gosling', 'Reviews': '117', 'Critic': '203', 'Country': 'USA', 'Language': 'English', 'BudgetCurrency': '$', 'BudgetValue': '2,000,000', 'Runtime': '95', 'Actors': '', 'IdMovie': '127565', 'IdIMDB': '2366608', 'GrossCurrency': 'NA', 'GrossValue': 0, 'OpeningWeekendCurrency': 'NA', 'OpeningWeekendValue': 0}\"\n",
      "b\"{'Reviews': '0', 'Critic': '0', 'Country': 'USA', 'Language': 'English', 'Runtime': '95', 'Actors': '', 'IdMovie': '127567', 'IdIMDB': '0206871', 'BudgetCurrency': 'NA', 'BudgetValue': 0, 'GrossCurrency': 'NA', 'GrossValue': 0, 'OpeningWeekendCurrency': 'NA', 'OpeningWeekendValue': 0}\"\n",
      "b\"{'Reviews': '0', 'Critic': '0', 'Country': 'Canada|USA', 'Language': 'English|French|German', 'Runtime': '60', 'IdMovie': '127569', 'IdIMDB': '0206988', 'Actors': 0, 'BudgetCurrency': 'NA', 'BudgetValue': 0, 'GrossCurrency': 'NA', 'GrossValue': 0, 'OpeningWeekendCurrency': 'NA', 'OpeningWeekendValue': 0}\"\n",
      "b\"{'Reviews': '0', 'Critic': '0', 'Country': 'USA', 'Language': 'English', 'Runtime': '82', 'Actors': '', 'IdMovie': '127571', 'IdIMDB': '0131356', 'BudgetCurrency': 'NA', 'BudgetValue': 0, 'GrossCurrency': 'NA', 'GrossValue': 0, 'OpeningWeekendCurrency': 'NA', 'OpeningWeekendValue': 0}\"\n",
      "b\"{'Reviews': '0', 'Critic': '0', 'Country': 'USA', 'Language': 'None', 'Runtime': '135', 'IdMovie': '127573', 'IdIMDB': '0445158', 'Actors': 0, 'BudgetCurrency': 'NA', 'BudgetValue': 0, 'GrossCurrency': 'NA', 'GrossValue': 0, 'OpeningWeekendCurrency': 'NA', 'OpeningWeekendValue': 0}\"\n",
      "b\"{'Reviews': '0', 'Critic': '0', 'Country': 'Germany', 'Language': 'None', 'Runtime': '121', 'IdMovie': '127575', 'IdIMDB': '1528792', 'Actors': 0, 'BudgetCurrency': 'NA', 'BudgetValue': 0, 'GrossCurrency': 'NA', 'GrossValue': 0, 'OpeningWeekendCurrency': 'NA', 'OpeningWeekendValue': 0}\"\n",
      "b\"{'Reviews': '0', 'Critic': '0', 'Country': 'UK|Romania|USA', 'Language': 'Romanian', 'BudgetCurrency': '$', 'BudgetValue': '850,000', 'Runtime': '78', 'Actors': '', 'IdMovie': '127583', 'IdIMDB': '2442080', 'GrossCurrency': 'NA', 'GrossValue': 0, 'OpeningWeekendCurrency': 'NA', 'OpeningWeekendValue': 0}\"\n",
      "b\"{'Director': 'Robert Hall', 'Writers': 'Aaron Drane,Robert Hall', 'Reviews': '28', 'Critic': '43', 'Country': 'USA', 'Language': 'English', 'BudgetCurrency': '$', 'BudgetValue': '1,000,000', 'Runtime': '95', 'Actors': '', 'IdMovie': '127585', 'IdIMDB': '2165765', 'GrossCurrency': 'NA', 'GrossValue': 0, 'OpeningWeekendCurrency': 'NA', 'OpeningWeekendValue': 0}\"\n",
      "b\"{'Reviews': '0', 'Critic': '0', 'Country': 'New Zealand', 'Language': 'English', 'BudgetCurrency': 'N', 'BudgetValue': 'ZD1,000,000', 'Actors': '', 'IdMovie': '127600', 'IdIMDB': '0084887', 'Runtime': 0, 'GrossCurrency': 'NA', 'GrossValue': 0, 'OpeningWeekendCurrency': 'NA', 'OpeningWeekendValue': 0}\"\n",
      "b\"{'Reviews': '0', 'Critic': '0', 'Country': 'UK', 'Language': 'English', 'Runtime': '56', 'Actors': '', 'IdMovie': '127604', 'IdIMDB': '0192075', 'BudgetCurrency': 'NA', 'BudgetValue': 0, 'GrossCurrency': 'NA', 'GrossValue': 0, 'OpeningWeekendCurrency': 'NA', 'OpeningWeekendValue': 0}\"\n",
      "b\"{'Reviews': '0', 'Critic': '0', 'Country': 'USA', 'Language': 'English', 'Runtime': '92', 'Actors': '', 'IdMovie': '127608', 'IdIMDB': '0073834', 'BudgetCurrency': 'NA', 'BudgetValue': 0, 'GrossCurrency': 'NA', 'GrossValue': 0, 'OpeningWeekendCurrency': 'NA', 'OpeningWeekendValue': 0}\"\n",
      "b\"{'Reviews': '0', 'Critic': '0', 'Country': 'Italy', 'Language': 'Italian', 'Runtime': '90', 'Actors': '', 'IdMovie': '127610', 'IdIMDB': '4142022', 'BudgetCurrency': 'NA', 'BudgetValue': 0, 'GrossCurrency': 'NA', 'GrossValue': 0, 'OpeningWeekendCurrency': 'NA', 'OpeningWeekendValue': 0}\"\n",
      "b\"{'Director': 'Duilio Coletti', 'Writers': 'Marc-Antonio Bragadin,Oreste Biancoli', 'Reviews': '5', 'Critic': '3', 'Country': 'Italy', 'Language': 'Italian', 'Runtime': '83', 'Actors': '', 'IdMovie': '127620', 'IdIMDB': '0047048', 'BudgetCurrency': 'NA', 'BudgetValue': 0, 'GrossCurrency': 'NA', 'GrossValue': 0, 'OpeningWeekendCurrency': 'NA', 'OpeningWeekendValue': 0}\"\n",
      "b\"{'Reviews': '0', 'Critic': '0', 'Country': 'Italy|USA', 'Language': 'English', 'Runtime': '88', 'Actors': '', 'IdMovie': '127626', 'IdIMDB': '0054328', 'BudgetCurrency': 'NA', 'BudgetValue': 0, 'GrossCurrency': 'NA', 'GrossValue': 0, 'OpeningWeekendCurrency': 'NA', 'OpeningWeekendValue': 0}\"\n",
      "b\"{'Reviews': '0', 'Critic': '0', 'Country': 'UK', 'Language': 'English', 'Runtime': '99', 'Actors': '', 'IdMovie': '127632', 'IdIMDB': '0062266', 'BudgetCurrency': 'NA', 'BudgetValue': 0, 'GrossCurrency': 'NA', 'GrossValue': 0, 'OpeningWeekendCurrency': 'NA', 'OpeningWeekendValue': 0}\"\n",
      "b\"{'Reviews': '0', 'Critic': '0', 'Country': 'UK', 'Language': 'English', 'BudgetCurrency': '$', 'BudgetValue': '1,250,000', 'Runtime': '100', 'Actors': '', 'IdMovie': '127634', 'IdIMDB': '0063570', 'GrossCurrency': 'NA', 'GrossValue': 0, 'OpeningWeekendCurrency': 'NA', 'OpeningWeekendValue': 0}\"\n",
      "b\"{'Reviews': '0', 'Critic': '0', 'Country': 'UK', 'Language': 'English', 'Actors': '', 'IdMovie': '127640', 'IdIMDB': '0064462', 'Runtime': 0, 'BudgetCurrency': 'NA', 'BudgetValue': 0, 'GrossCurrency': 'NA', 'GrossValue': 0, 'OpeningWeekendCurrency': 'NA', 'OpeningWeekendValue': 0}\"\n",
      "b\"{'Reviews': '0', 'Critic': '0', 'Country': 'UK', 'Language': 'English', 'Runtime': '75', 'Actors': '', 'IdMovie': '127642', 'IdIMDB': '0067375', 'BudgetCurrency': 'NA', 'BudgetValue': 0, 'GrossCurrency': 'NA', 'GrossValue': 0, 'OpeningWeekendCurrency': 'NA', 'OpeningWeekendValue': 0}\"\n",
      "b\"{'Writers': 'Manu Payet,Nicolas Peufaillit', 'Reviews': '1', 'Critic': '6', 'Country': 'France', 'Language': 'French', 'Runtime': '98', 'Actors': '', 'IdMovie': '127654', 'IdIMDB': '3202408', 'BudgetCurrency': 'NA', 'BudgetValue': 0, 'GrossCurrency': 'NA', 'GrossValue': 0, 'OpeningWeekendCurrency': 'NA', 'OpeningWeekendValue': 0}\"\n",
      "b\"{'Reviews': '0', 'Critic': '0', 'Country': 'Italy', 'Language': 'Italian', 'Runtime': '100', 'Actors': '', 'IdMovie': '127656', 'IdIMDB': '0063464', 'BudgetCurrency': 'NA', 'BudgetValue': 0, 'GrossCurrency': 'NA', 'GrossValue': 0, 'OpeningWeekendCurrency': 'NA', 'OpeningWeekendValue': 0}\"\n",
      "b\"{'Reviews': '0', 'Critic': '0', 'Country': 'Italy|France', 'Language': 'Italian', 'Runtime': '100', 'Actors': '', 'IdMovie': '127669', 'IdIMDB': '0049282', 'BudgetCurrency': 'NA', 'BudgetValue': 0, 'GrossCurrency': 'NA', 'GrossValue': 0, 'OpeningWeekendCurrency': 'NA', 'OpeningWeekendValue': 0}\"\n",
      "b\"{'Reviews': '0', 'Critic': '0', 'Country': 'Italy|France|Yugoslavia', 'Language': 'Italian', 'Runtime': '120', 'Actors': '', 'IdMovie': '127671', 'IdIMDB': '0052280', 'BudgetCurrency': 'NA', 'BudgetValue': 0, 'GrossCurrency': 'NA', 'GrossValue': 0, 'OpeningWeekendCurrency': 'NA', 'OpeningWeekendValue': 0}\"\n",
      "b\"{'Reviews': '0', 'Critic': '0', 'Country': 'Italy|France', 'Language': 'Italian', 'Runtime': '91', 'Actors': '', 'IdMovie': '127673', 'IdIMDB': '0053780', 'BudgetCurrency': 'NA', 'BudgetValue': 0, 'GrossCurrency': 'NA', 'GrossValue': 0, 'OpeningWeekendCurrency': 'NA', 'OpeningWeekendValue': 0}\"\n",
      "b\"{'Reviews': '0', 'Critic': '0', 'Country': 'Italy|France', 'Language': 'Italian', 'Runtime': '87', 'Actors': '', 'IdMovie': '127675', 'IdIMDB': '0055241', 'BudgetCurrency': 'NA', 'BudgetValue': 0, 'GrossCurrency': 'NA', 'GrossValue': 0, 'OpeningWeekendCurrency': 'NA', 'OpeningWeekendValue': 0}\"\n",
      "b\"{'Reviews': '0', 'Critic': '0', 'Country': 'Italy', 'Language': 'English|Italian', 'Actors': '', 'IdMovie': '127677', 'IdIMDB': '0060676', 'Runtime': 0, 'BudgetCurrency': 'NA', 'BudgetValue': 0, 'GrossCurrency': 'NA', 'GrossValue': 0, 'OpeningWeekendCurrency': 'NA', 'OpeningWeekendValue': 0}\"\n",
      "b\"{'Reviews': '0', 'Critic': '0', 'Country': 'Yugoslavia|Italy', 'Language': 'English', 'Runtime': '104', 'Actors': '', 'IdMovie': '127679', 'IdIMDB': '0064350', 'BudgetCurrency': 'NA', 'BudgetValue': 0, 'GrossCurrency': 'NA', 'GrossValue': 0, 'OpeningWeekendCurrency': 'NA', 'OpeningWeekendValue': 0}\"\n",
      "b\"{'Reviews': '0', 'Critic': '0', 'Country': 'Italy', 'Language': 'Italian', 'Runtime': '101', 'Actors': '', 'IdMovie': '127688', 'IdIMDB': '0083737', 'BudgetCurrency': 'NA', 'BudgetValue': 0, 'GrossCurrency': 'NA', 'GrossValue': 0, 'OpeningWeekendCurrency': 'NA', 'OpeningWeekendValue': 0}\"\n",
      "b\"{'Director': 'Andr\\xc3\\xa9 T\\xc3\\xa9chin\\xc3\\xa9', 'Writers': 'Pascal Bonitzer,Andr\\xc3\\xa9 T\\xc3\\xa9chin\\xc3\\xa9', 'Reviews': '8', 'Critic': '12', 'Country': 'France', 'Language': 'French', 'Actors': '', 'IdMovie': '127690', 'IdIMDB': '0079920', 'Runtime': 0, 'BudgetCurrency': 'NA', 'BudgetValue': 0, 'GrossCurrency': 'NA', 'GrossValue': 0, 'OpeningWeekendCurrency': 'NA', 'OpeningWeekendValue': 0}\"\n",
      "b\"{'Director': 'Andr\\xc3\\xa9 T\\xc3\\xa9chin\\xc3\\xa9', 'Writers': 'C\\xc3\\xa9dric Anger,Jean-Charles Le Roux', 'Reviews': '7', 'Critic': '49', 'Country': 'France', 'Language': 'French', 'BudgetCurrency': 'E', 'BudgetValue': 'UR8,000,000', 'Runtime': '116', 'Actors': '', 'IdMovie': '127701', 'IdIMDB': '2929890', 'GrossCurrency': 'NA', 'GrossValue': 0, 'OpeningWeekendCurrency': 'NA', 'OpeningWeekendValue': 0}\"\n",
      "b\"{'Reviews': '0', 'Critic': '0', 'Country': 'West Germany|Italy|Yugoslavia', 'Language': 'German', 'Runtime': '92', 'Actors': '', 'IdMovie': '127703', 'IdIMDB': '0059364', 'BudgetCurrency': 'NA', 'BudgetValue': 0, 'GrossCurrency': 'NA', 'GrossValue': 0, 'OpeningWeekendCurrency': 'NA', 'OpeningWeekendValue': 0}\"\n",
      "b\"{'Reviews': '0', 'Critic': '0', 'Country': 'Italy|West Germany|Canada', 'Language': 'German', 'Actors': '', 'IdMovie': '127713', 'IdIMDB': '0061877', 'Runtime': 0, 'BudgetCurrency': 'NA', 'BudgetValue': 0, 'GrossCurrency': 'NA', 'GrossValue': 0, 'OpeningWeekendCurrency': 'NA', 'OpeningWeekendValue': 0}\"\n",
      "b\"{'Reviews': '0', 'Critic': '0', 'Country': 'Italy', 'Language': 'Italian', 'Runtime': '96', 'Actors': '', 'IdMovie': '127721', 'IdIMDB': '0076937', 'BudgetCurrency': 'NA', 'BudgetValue': 0, 'GrossCurrency': 'NA', 'GrossValue': 0, 'OpeningWeekendCurrency': 'NA', 'OpeningWeekendValue': 0}\"\n",
      "b\"{'Director': 'Chris Eska', 'Reviews': '15', 'Critic': '55', 'Country': 'USA', 'Language': 'English', 'Runtime': '92', 'Actors': '', 'IdMovie': '127724', 'IdIMDB': '2635006', 'BudgetCurrency': 'NA', 'BudgetValue': 0, 'GrossCurrency': 'NA', 'GrossValue': 0, 'OpeningWeekendCurrency': 'NA', 'OpeningWeekendValue': 0}\"\n",
      "b\"{'Reviews': '0', 'Critic': '0', 'Country': 'Philippines', 'Language': 'English', 'BudgetCurrency': '$', 'BudgetValue': '275,000', 'Runtime': '90', 'Actors': '', 'IdMovie': '127726', 'IdIMDB': '0068448', 'GrossCurrency': 'NA', 'GrossValue': 0, 'OpeningWeekendCurrency': 'NA', 'OpeningWeekendValue': 0}\"\n",
      "b\"{'Reviews': '0', 'Critic': '0', 'Country': 'Denmark|Belgium|France|Switzerland|Sweden|Finland|Norway', 'Language': 'French|English', 'BudgetCurrency': 'E', 'BudgetValue': 'UR1,000,000', 'Runtime': '75', 'Actors': '', 'IdMovie': '127831', 'IdIMDB': '0378879', 'GrossCurrency': 'NA', 'GrossValue': 0, 'OpeningWeekendCurrency': 'NA', 'OpeningWeekendValue': 0}\"\n",
      "b\"{'Director': 'John Herzfeld', 'Reviews': '21', 'Critic': '32', 'Country': 'USA', 'Language': 'English', 'BudgetCurrency': '$', 'BudgetValue': '5,000,000', 'Runtime': '95', 'Actors': '', 'IdMovie': '127833', 'IdIMDB': '0959306', 'GrossCurrency': 'NA', 'GrossValue': 0, 'OpeningWeekendCurrency': 'NA', 'OpeningWeekendValue': 0}\"\n",
      "b\"{'Reviews': '0', 'Critic': '0', 'Country': 'USA', 'Language': 'English', 'BudgetCurrency': '$', 'BudgetValue': '2,500,000', 'Runtime': '117', 'Actors': '', 'IdMovie': '127835', 'IdIMDB': '0071838', 'GrossCurrency': 'NA', 'GrossValue': 0, 'OpeningWeekendCurrency': 'NA', 'OpeningWeekendValue': 0}\"\n",
      "b\"{'Reviews': '0', 'Critic': '0', 'Country': 'Italy', 'Language': 'Italian', 'Runtime': '102', 'Actors': '', 'IdMovie': '127837', 'IdIMDB': '0309992', 'BudgetCurrency': 'NA', 'BudgetValue': 0, 'GrossCurrency': 'NA', 'GrossValue': 0, 'OpeningWeekendCurrency': 'NA', 'OpeningWeekendValue': 0}\"\n",
      "b\"{'Reviews': '0', 'Critic': '0', 'Country': 'USA', 'Language': 'English|Spanish', 'Actors': '', 'IdMovie': '127841', 'IdIMDB': '0066913', 'Runtime': 0, 'BudgetCurrency': 'NA', 'BudgetValue': 0, 'GrossCurrency': 'NA', 'GrossValue': 0, 'OpeningWeekendCurrency': 'NA', 'OpeningWeekendValue': 0}\"\n",
      "b\"{'Reviews': '0', 'Critic': '0', 'Country': 'Japan', 'Language': 'Japanese|Italian', 'Runtime': '143', 'Actors': '', 'IdMovie': '127843', 'IdIMDB': '0085991', 'BudgetCurrency': 'NA', 'BudgetValue': 0, 'GrossCurrency': 'NA', 'GrossValue': 0, 'OpeningWeekendCurrency': 'NA', 'OpeningWeekendValue': 0}\"\n",
      "b\"{'Reviews': '0', 'Critic': '0', 'Country': 'USA', 'Language': 'English', 'Runtime': '95', 'Actors': '', 'IdMovie': '127847', 'IdIMDB': '0076182', 'BudgetCurrency': 'NA', 'BudgetValue': 0, 'GrossCurrency': 'NA', 'GrossValue': 0, 'OpeningWeekendCurrency': 'NA', 'OpeningWeekendValue': 0}\"\n",
      "b\"{'Reviews': '0', 'Critic': '0', 'Country': 'USA', 'Language': 'English', 'Actors': '', 'IdMovie': '127849', 'IdIMDB': '0076315', 'Runtime': 0, 'BudgetCurrency': 'NA', 'BudgetValue': 0, 'GrossCurrency': 'NA', 'GrossValue': 0, 'OpeningWeekendCurrency': 'NA', 'OpeningWeekendValue': 0}\"\n",
      "b\"{'Director': 'Alexandre Arcady', 'Writers': 'Alexandre Arcady,Alexandra Deman', 'Reviews': '6', 'Critic': '8', 'Country': 'France', 'Language': 'French', 'Runtime': '162', 'Actors': '', 'IdMovie': '127857', 'IdIMDB': '1934205', 'BudgetCurrency': 'NA', 'BudgetValue': 0, 'GrossCurrency': 'NA', 'GrossValue': 0, 'OpeningWeekendCurrency': 'NA', 'OpeningWeekendValue': 0}\"\n",
      "b\"{'Director': 'Alex Gibney', 'Writers': 'Jim Podhoretz,Larry Weitzman', 'Reviews': '2', 'Critic': '10', 'Country': 'USA', 'Language': 'English', 'Runtime': '94', 'Actors': '', 'IdMovie': '127861', 'IdIMDB': '2044040', 'BudgetCurrency': 'NA', 'BudgetValue': 0, 'GrossCurrency': 'NA', 'GrossValue': 0, 'OpeningWeekendCurrency': 'NA', 'OpeningWeekendValue': 0}\"\n",
      "b\"{'Reviews': '0', 'Critic': '0', 'Country': 'USA', 'Language': 'English', 'Runtime': '57', 'Actors': '', 'IdMovie': '127873', 'IdIMDB': '2384296', 'BudgetCurrency': 'NA', 'BudgetValue': 0, 'GrossCurrency': 'NA', 'GrossValue': 0, 'OpeningWeekendCurrency': 'NA', 'OpeningWeekendValue': 0}\"\n",
      "b\"{'Writers': 'Dan M. Kinem,Levi Peretic', 'Reviews': '11', 'Critic': '37', 'Country': 'USA', 'Language': 'English', 'Runtime': '84', 'Actors': '', 'IdMovie': '127879', 'IdIMDB': '2395133', 'BudgetCurrency': 'NA', 'BudgetValue': 0, 'GrossCurrency': 'NA', 'GrossValue': 0, 'OpeningWeekendCurrency': 'NA', 'OpeningWeekendValue': 0}\"\n",
      "b\"{'Reviews': '0', 'Critic': '0', 'Country': 'Sweden', 'Language': 'Swedish', 'Runtime': '127', 'Actors': '', 'IdMovie': '127957', 'IdIMDB': '2923652', 'BudgetCurrency': 'NA', 'BudgetValue': 0, 'GrossCurrency': 'NA', 'GrossValue': 0, 'OpeningWeekendCurrency': 'NA', 'OpeningWeekendValue': 0}\"\n",
      "b\"{'Writers': 'Cameron Cairnes,Colin Cairnes', 'Reviews': '25', 'Critic': '86', 'Country': 'Australia', 'Language': 'English', 'Runtime': '91', 'Actors': '', 'IdMovie': '127974', 'IdIMDB': '2290065', 'BudgetCurrency': 'NA', 'BudgetValue': 0, 'GrossCurrency': 'NA', 'GrossValue': 0, 'OpeningWeekendCurrency': 'NA', 'OpeningWeekendValue': 0}\"\n",
      "b\"{'Reviews': '0', 'Critic': '0', 'Country': 'Georgia', 'Language': 'Georgian|English', 'BudgetCurrency': '$', 'BudgetValue': '700,000', 'Runtime': '89', 'Actors': '', 'IdMovie': '127989', 'IdIMDB': '1543701', 'GrossCurrency': 'NA', 'GrossValue': 0, 'OpeningWeekendCurrency': 'NA', 'OpeningWeekendValue': 0}\"\n",
      "b\"{'Reviews': '0', 'Critic': '0', 'Country': 'Soviet Union', 'Language': 'Russian|Ukrainian', 'Runtime': '68', 'Actors': '', 'IdMovie': '127993', 'IdIMDB': '0057637', 'BudgetCurrency': 'NA', 'BudgetValue': 0, 'GrossCurrency': 'NA', 'GrossValue': 0, 'OpeningWeekendCurrency': 'NA', 'OpeningWeekendValue': 0}\"\n",
      "b\"{'Reviews': '0', 'Critic': '0', 'Country': 'Soviet Union', 'Language': 'Russian', 'Runtime': '141', 'Actors': '', 'IdMovie': '127999', 'IdIMDB': '0079464', 'BudgetCurrency': 'NA', 'BudgetValue': 0, 'GrossCurrency': 'NA', 'GrossValue': 0, 'OpeningWeekendCurrency': 'NA', 'OpeningWeekendValue': 0}\"\n",
      "b\"{'Reviews': '0', 'Critic': '0', 'Country': 'France', 'Language': 'French', 'Runtime': '59', 'Actors': '', 'IdMovie': '128007', 'IdIMDB': '0003930', 'BudgetCurrency': 'NA', 'BudgetValue': 0, 'GrossCurrency': 'NA', 'GrossValue': 0, 'OpeningWeekendCurrency': 'NA', 'OpeningWeekendValue': 0}\"\n",
      "b\"{'Director': 'Alan Jacobs', 'Reviews': '37', 'Critic': '11', 'Country': 'USA', 'Language': 'English', 'Runtime': '89', 'Actors': '', 'IdMovie': '7337', 'IdIMDB': '0270197', 'BudgetCurrency': 'NA', 'BudgetValue': 0, 'GrossCurrency': 'NA', 'GrossValue': 0, 'OpeningWeekendCurrency': 'NA', 'OpeningWeekendValue': 0}\"\n",
      "b\"{'Reviews': '0', 'Critic': '0', 'Country': 'USA', 'Language': 'English', 'BudgetCurrency': '$', 'BudgetValue': '270,000', 'Runtime': '94', 'Actors': '', 'IdMovie': '128011', 'IdIMDB': '0023545', 'GrossCurrency': 'NA', 'GrossValue': 0, 'OpeningWeekendCurrency': 'NA', 'OpeningWeekendValue': 0}\"\n",
      "b\"{'Reviews': '0', 'Critic': '0', 'Country': 'UK', 'Language': 'English|Latin', 'Runtime': '161', 'Actors': '', 'IdMovie': '7338', 'IdIMDB': '0049674', 'BudgetCurrency': 'NA', 'BudgetValue': 0, 'GrossCurrency': 'NA', 'GrossValue': 0, 'OpeningWeekendCurrency': 'NA', 'OpeningWeekendValue': 0}\"\n",
      "b\"{'Reviews': '0', 'Critic': '0', 'Country': 'USA', 'Language': 'English|Italian', 'BudgetCurrency': '$', 'BudgetValue': '549,370', 'Runtime': '79', 'Actors': '', 'IdMovie': '128013', 'IdIMDB': '0024816', 'GrossCurrency': 'NA', 'GrossValue': 0, 'OpeningWeekendCurrency': 'NA', 'OpeningWeekendValue': 0}\"\n",
      "b\"{'Reviews': '0', 'Critic': '0', 'Country': 'USA', 'Language': 'English', 'Runtime': '84', 'Actors': '', 'IdMovie': '128015', 'IdIMDB': '0026893', 'BudgetCurrency': 'NA', 'BudgetValue': 0, 'GrossCurrency': 'NA', 'GrossValue': 0, 'OpeningWeekendCurrency': 'NA', 'OpeningWeekendValue': 0}\"\n",
      "b\"{'Director': 'James Ivory', 'Writers': 'Jean Rhys,Ruth Prawer Jhabvala', 'Reviews': '15', 'Critic': '8', 'Country': 'UK|France', 'Language': 'English|French', 'Actors': '', 'IdMovie': '7339', 'IdIMDB': '0082964', 'Runtime': 0, 'BudgetCurrency': 'NA', 'BudgetValue': 0, 'GrossCurrency': 'NA', 'GrossValue': 0, 'OpeningWeekendCurrency': 'NA', 'OpeningWeekendValue': 0}\"\n",
      "b\"{'Reviews': '0', 'Critic': '0', 'Country': 'USA', 'Language': 'English', 'Runtime': '78', 'Actors': '', 'IdMovie': '128019', 'IdIMDB': '0034963', 'BudgetCurrency': 'NA', 'BudgetValue': 0, 'GrossCurrency': 'NA', 'GrossValue': 0, 'OpeningWeekendCurrency': 'NA', 'OpeningWeekendValue': 0}\"\n",
      "b\"{'Reviews': '0', 'Critic': '0', 'Country': 'USA', 'Language': 'English', 'Runtime': '104', 'Actors': '', 'IdMovie': '128021', 'IdIMDB': '0039574', 'BudgetCurrency': 'NA', 'BudgetValue': 0, 'GrossCurrency': 'NA', 'GrossValue': 0, 'OpeningWeekendCurrency': 'NA', 'OpeningWeekendValue': 0}\"\n",
      "b\"{'Reviews': '0', 'Critic': '0', 'Country': 'USA', 'Language': 'English|Spanish', 'Runtime': '134', 'Actors': '', 'IdMovie': '7341', 'IdIMDB': '0060232', 'BudgetCurrency': 'NA', 'BudgetValue': 0, 'GrossCurrency': 'NA', 'GrossValue': 0, 'OpeningWeekendCurrency': 'NA', 'OpeningWeekendValue': 0}\"\n",
      "b\"{'Reviews': '0', 'Critic': '0', 'Country': 'USA', 'Language': 'English', 'Runtime': '84', 'Actors': '', 'IdMovie': '128023', 'IdIMDB': '0040530', 'BudgetCurrency': 'NA', 'BudgetValue': 0, 'GrossCurrency': 'NA', 'GrossValue': 0, 'OpeningWeekendCurrency': 'NA', 'OpeningWeekendValue': 0}\"\n",
      "b\"{'Reviews': '0', 'Critic': '0', 'Country': 'Canada', 'Language': 'English', 'BudgetCurrency': '$', 'BudgetValue': '6,000,000', 'Runtime': '101', 'Actors': '', 'IdMovie': '7342', 'IdIMDB': '0095454', 'GrossCurrency': 'NA', 'GrossValue': 0, 'OpeningWeekendCurrency': 'NA', 'OpeningWeekendValue': 0}\"\n",
      "b\"{'Reviews': '0', 'Critic': '0', 'Country': 'USA', 'Language': 'English', 'Runtime': '69', 'Actors': '', 'IdMovie': '128025', 'IdIMDB': '0049539', 'BudgetCurrency': 'NA', 'BudgetValue': 0, 'GrossCurrency': 'NA', 'GrossValue': 0, 'OpeningWeekendCurrency': 'NA', 'OpeningWeekendValue': 0}\"\n",
      "b\"{'Reviews': '0', 'Critic': '0', 'Country': 'UK|USA', 'Language': 'English', 'Runtime': '76', 'Actors': '', 'IdMovie': '7343', 'IdIMDB': '0210389', 'BudgetCurrency': 'NA', 'BudgetValue': 0, 'GrossCurrency': 'NA', 'GrossValue': 0, 'OpeningWeekendCurrency': 'NA', 'OpeningWeekendValue': 0}\"\n",
      "b\"{'Reviews': '0', 'Critic': '0', 'Country': 'Canada', 'Language': 'English', 'BudgetCurrency': '$', 'BudgetValue': '800,000', 'Actors': '', 'IdMovie': '128029', 'IdIMDB': '0086264', 'Runtime': 0, 'GrossCurrency': 'NA', 'GrossValue': 0, 'OpeningWeekendCurrency': 'NA', 'OpeningWeekendValue': 0}\"\n",
      "b\"{'Reviews': '0', 'Critic': '0', 'Country': 'Canada', 'Language': 'English', 'BudgetCurrency': 'C', 'BudgetValue': 'AD1,000,000', 'Runtime': '92', 'Actors': '', 'IdMovie': '128031', 'IdIMDB': '0089501', 'GrossCurrency': 'NA', 'GrossValue': 0, 'OpeningWeekendCurrency': 'NA', 'OpeningWeekendValue': 0}\"\n",
      "b\"{'Director': 'David Mamet', 'Reviews': '244', 'Critic': '117', 'Country': 'Germany|USA', 'Language': 'English|Russian|Swedish', 'BudgetCurrency': '$', 'BudgetValue': '19,250,000', 'Runtime': '102', 'Actors': '', 'IdMovie': '7348', 'IdIMDB': '0360009', 'GrossCurrency': 'NA', 'GrossValue': 0, 'OpeningWeekendCurrency': 'NA', 'OpeningWeekendValue': 0}\"\n",
      "b\"{'Reviews': '0', 'Critic': '0', 'Country': 'Israel', 'Language': 'Hebrew', 'Runtime': '87', 'Actors': '', 'IdMovie': '7349', 'IdIMDB': '0317842', 'BudgetCurrency': 'NA', 'BudgetValue': 0, 'GrossCurrency': 'NA', 'GrossValue': 0, 'OpeningWeekendCurrency': 'NA', 'OpeningWeekendValue': 0}\"\n",
      "b\"{'Reviews': '0', 'Critic': '0', 'Country': 'UK|USA', 'Language': 'English', 'Runtime': '101', 'Actors': '', 'IdMovie': '128039', 'IdIMDB': '0096060', 'BudgetCurrency': 'NA', 'BudgetValue': 0, 'GrossCurrency': 'NA', 'GrossValue': 0, 'OpeningWeekendCurrency': 'NA', 'OpeningWeekendValue': 0}\"\n",
      "b\"{'Reviews': '0', 'Critic': '0', 'Country': 'USA', 'Language': 'English', 'Runtime': '83', 'Actors': '', 'IdMovie': '128041', 'IdIMDB': '0096153', 'BudgetCurrency': 'NA', 'BudgetValue': 0, 'GrossCurrency': 'NA', 'GrossValue': 0, 'OpeningWeekendCurrency': 'NA', 'OpeningWeekendValue': 0}\"\n",
      "b\"{'Reviews': '0', 'Critic': '0', 'Country': 'USA', 'Language': 'English', 'Runtime': '90', 'Actors': '', 'IdMovie': '7351', 'IdIMDB': '0303348', 'BudgetCurrency': 'NA', 'BudgetValue': 0, 'GrossCurrency': 'NA', 'GrossValue': 0, 'OpeningWeekendCurrency': 'NA', 'OpeningWeekendValue': 0}\"\n",
      "b\"{'Director': 'Lone Scherfig', 'Writers': 'Lone Scherfig,Anders Thomas Jensen', 'Reviews': '51', 'Critic': '61', 'Country': 'Denmark|UK|Sweden|France', 'Language': 'English', 'BudgetCurrency': '$', 'BudgetValue': '4,000,000', 'Runtime': '111', 'Actors': '', 'IdMovie': '7352', 'IdIMDB': '0329767', 'GrossCurrency': 'NA', 'GrossValue': 0, 'OpeningWeekendCurrency': 'NA', 'OpeningWeekendValue': 0}\"\n",
      "b\"{'Reviews': '0', 'Critic': '0', 'Country': 'USA', 'Language': 'English', 'BudgetCurrency': '$', 'BudgetValue': '19,000,000', 'Runtime': '90', 'Actors': '', 'IdMovie': '7353', 'IdIMDB': '0109447', 'GrossCurrency': 'NA', 'GrossValue': 0, 'OpeningWeekendCurrency': 'NA', 'OpeningWeekendValue': 0}\"\n",
      "b\"{'Reviews': '0', 'Critic': '0', 'Country': 'USA', 'Language': 'English|Greek', 'BudgetCurrency': '$', 'BudgetValue': '850,000', 'Runtime': '82', 'Actors': '', 'IdMovie': '128049', 'IdIMDB': '0045827', 'GrossCurrency': 'NA', 'GrossValue': 0, 'OpeningWeekendCurrency': 'NA', 'OpeningWeekendValue': 0}\"\n",
      "b\"{'Director': 'John McNaughton', 'Reviews': '61', 'Critic': '23', 'Country': 'USA', 'Language': 'English', 'BudgetCurrency': '$', 'BudgetValue': '19,000,000', 'Runtime': '97', 'Actors': '', 'IdMovie': '7354', 'IdIMDB': '0107473', 'GrossCurrency': 'NA', 'GrossValue': 0, 'OpeningWeekendCurrency': 'NA', 'OpeningWeekendValue': 0}\"\n",
      "b\"{'Director': 'Terry Jones', 'Writers': 'Terry Jones,Kenneth Grahame', 'Reviews': '29', 'Critic': '18', 'Country': 'UK', 'Language': 'English', 'Runtime': '88', 'Actors': '', 'IdMovie': '7355', 'IdIMDB': '0118172', 'BudgetCurrency': 'NA', 'BudgetValue': 0, 'GrossCurrency': 'NA', 'GrossValue': 0, 'OpeningWeekendCurrency': 'NA', 'OpeningWeekendValue': 0}\"\n",
      "b\"{'Reviews': '0', 'Critic': '0', 'Country': 'USA', 'Language': 'English|Spanish', 'BudgetCurrency': '$', 'BudgetValue': '1,400,000', 'Runtime': '94', 'Actors': '', 'IdMovie': '128057', 'IdIMDB': '0049639', 'GrossCurrency': 'NA', 'GrossValue': 0, 'OpeningWeekendCurrency': 'NA', 'OpeningWeekendValue': 0}\"\n",
      "b\"{'Reviews': '0', 'Critic': '0', 'Country': 'USA', 'Language': 'English', 'Runtime': '91', 'Actors': '', 'IdMovie': '128059', 'IdIMDB': '0053884', 'BudgetCurrency': 'NA', 'BudgetValue': 0, 'GrossCurrency': 'NA', 'GrossValue': 0, 'OpeningWeekendCurrency': 'NA', 'OpeningWeekendValue': 0}\"\n",
      "b\"{'Reviews': '0', 'Critic': '0', 'Country': 'Italy', 'Language': 'Italian', 'Runtime': '90', 'Actors': '', 'IdMovie': '128075', 'IdIMDB': '0067643', 'BudgetCurrency': 'NA', 'BudgetValue': 0, 'GrossCurrency': 'NA', 'GrossValue': 0, 'OpeningWeekendCurrency': 'NA', 'OpeningWeekendValue': 0}\"\n",
      "b\"{'Reviews': '0', 'Critic': '0', 'Country': 'Italy', 'Language': 'Italian', 'Actors': '', 'IdMovie': '128077', 'IdIMDB': '0065509', 'Runtime': 0, 'BudgetCurrency': 'NA', 'BudgetValue': 0, 'GrossCurrency': 'NA', 'GrossValue': 0, 'OpeningWeekendCurrency': 'NA', 'OpeningWeekendValue': 0}\"\n",
      "b\"{'Director': 'D.J. Caruso', 'Writers': 'Michael Pye,Jon Bokenkamp', 'Reviews': '331', 'Critic': '145', 'Country': 'USA', 'Language': 'English|French', 'BudgetCurrency': '$', 'BudgetValue': '45,000,000', 'Runtime': '103', 'Actors': '', 'IdMovie': '7362', 'IdIMDB': '0364045', 'GrossCurrency': 'NA', 'GrossValue': 0, 'OpeningWeekendCurrency': 'NA', 'OpeningWeekendValue': 0}\"\n",
      "b\"{'Reviews': '0', 'Critic': '0', 'Country': 'Germany', 'Language': 'German', 'Actors': '', 'IdMovie': '7363', 'IdIMDB': '0355683', 'Runtime': 0, 'BudgetCurrency': 'NA', 'BudgetValue': 0, 'GrossCurrency': 'NA', 'GrossValue': 0, 'OpeningWeekendCurrency': 'NA', 'OpeningWeekendValue': 0}\"\n",
      "b\"{'Director': 'John Crowley', 'Reviews': '96', 'Critic': '75', 'Country': 'Ireland|UK', 'Language': 'English', 'BudgetCurrency': '$', 'BudgetValue': '5,000,000', 'Runtime': '105', 'Actors': '', 'IdMovie': '7364', 'IdIMDB': '0332658', 'GrossCurrency': 'NA', 'GrossValue': 0, 'OpeningWeekendCurrency': 'NA', 'OpeningWeekendValue': 0}\"\n",
      "b\"{'Reviews': '0', 'Critic': '0', 'Country': 'Italy|Spain', 'Language': 'Italian', 'Runtime': '91', 'Actors': '', 'IdMovie': '128081', 'IdIMDB': '0065499', 'BudgetCurrency': 'NA', 'BudgetValue': 0, 'GrossCurrency': 'NA', 'GrossValue': 0, 'OpeningWeekendCurrency': 'NA', 'OpeningWeekendValue': 0}\"\n",
      "b\"{'Reviews': '0', 'Critic': '0', 'Country': 'Iceland|Germany|UK|Denmark', 'Language': 'Icelandic|French', 'BudgetCurrency': 'E', 'BudgetValue': 'UR1,100,000', 'Runtime': '90', 'Actors': '', 'IdMovie': '7365', 'IdIMDB': '0351461', 'GrossCurrency': 'NA', 'GrossValue': 0, 'OpeningWeekendCurrency': 'NA', 'OpeningWeekendValue': 0}\"\n",
      "b\"{'Director': 'Kevin Smith', 'Reviews': '367', 'Critic': '121', 'Country': 'USA', 'Language': 'English', 'BudgetCurrency': '$', 'BudgetValue': '35,000,000', 'Runtime': '102', 'Actors': '', 'IdMovie': '7366', 'IdIMDB': '0300051', 'GrossCurrency': 'NA', 'GrossValue': 0, 'OpeningWeekendCurrency': 'NA', 'OpeningWeekendValue': 0}\"\n",
      "b\"{'Writers': 'Joel Coen,Ethan Coen', 'Reviews': '409', 'Critic': '195', 'Country': 'USA', 'Language': 'English|Vietnamese', 'BudgetCurrency': '$', 'BudgetValue': '35,000,000', 'Runtime': '104', 'Actors': '', 'IdMovie': '7367', 'IdIMDB': '0335245', 'GrossCurrency': 'NA', 'GrossValue': 0, 'OpeningWeekendCurrency': 'NA', 'OpeningWeekendValue': 0}\"\n",
      "b\"{'Reviews': '0', 'Critic': '0', 'Country': 'USA', 'Language': 'English|Russian', 'Runtime': '94', 'Actors': '', 'IdMovie': '7370', 'IdIMDB': '0305583', 'BudgetCurrency': 'NA', 'BudgetValue': 0, 'GrossCurrency': 'NA', 'GrossValue': 0, 'OpeningWeekendCurrency': 'NA', 'OpeningWeekendValue': 0}\"\n",
      "b\"{'Reviews': '0', 'Critic': '0', 'Country': 'USA', 'Language': 'English', 'Runtime': '63', 'Actors': '', 'IdMovie': '128093', 'IdIMDB': '1747960', 'BudgetCurrency': 'NA', 'BudgetValue': 0, 'GrossCurrency': 'NA', 'GrossValue': 0, 'OpeningWeekendCurrency': 'NA', 'OpeningWeekendValue': 0}\"\n",
      "b\"{'Reviews': '0', 'Critic': '0', 'Country': 'Australia|UK|USA|France', 'Language': 'English', 'Runtime': '110', 'Actors': '', 'IdMovie': '7372', 'IdIMDB': '0277941', 'BudgetCurrency': 'NA', 'BudgetValue': 0, 'GrossCurrency': 'NA', 'GrossValue': 0, 'OpeningWeekendCurrency': 'NA', 'OpeningWeekendValue': 0}\"\n",
      "b\"{'Director': 'Matteo Garrone', 'Writers': 'Matteo Garrone,Massimo Gaudioso', 'Reviews': '12', 'Critic': '134', 'Country': 'Italy|France', 'Language': 'Italian|Neapolitan|English|Latin', 'Runtime': '116', 'Actors': '', 'IdMovie': '127234', 'IdIMDB': '1846487', 'BudgetCurrency': 'NA', 'BudgetValue': 0, 'GrossCurrency': 'NA', 'GrossValue': 0, 'OpeningWeekendCurrency': 'NA', 'OpeningWeekendValue': 0}\"\n",
      "b\"{'Reviews': '0', 'Critic': '0', 'Country': 'UK|France|Canada', 'Language': 'French', 'Runtime': '182', 'Actors': '', 'IdMovie': '127242', 'IdIMDB': '0317875', 'BudgetCurrency': 'NA', 'BudgetValue': 0, 'GrossCurrency': 'NA', 'GrossValue': 0, 'OpeningWeekendCurrency': 'NA', 'OpeningWeekendValue': 0}\"\n",
      "b\"{'Reviews': '0', 'Critic': '0', 'Country': 'France|Italy', 'Language': 'French', 'Runtime': '101', 'Actors': '', 'IdMovie': '127246', 'IdIMDB': '0072618', 'BudgetCurrency': 'NA', 'BudgetValue': 0, 'GrossCurrency': 'NA', 'GrossValue': 0, 'OpeningWeekendCurrency': 'NA', 'OpeningWeekendValue': 0}\"\n",
      "b\"{'Director': 'S\\xc3\\xa9bastien Pilote', 'Reviews': '9', 'Critic': '26', 'Country': 'Canada', 'Language': 'French', 'Runtime': '111', 'Actors': '', 'IdMovie': '127248', 'IdIMDB': '2860720', 'BudgetCurrency': 'NA', 'BudgetValue': 0, 'GrossCurrency': 'NA', 'GrossValue': 0, 'OpeningWeekendCurrency': 'NA', 'OpeningWeekendValue': 0}\"\n",
      "b\"{'Reviews': '0', 'Critic': '0', 'Country': 'Sweden', 'Language': 'Swedish', 'Runtime': '102', 'Actors': '', 'IdMovie': '127250', 'IdIMDB': '3727662', 'BudgetCurrency': 'NA', 'BudgetValue': 0, 'GrossCurrency': 'NA', 'GrossValue': 0, 'OpeningWeekendCurrency': 'NA', 'OpeningWeekendValue': 0}\"\n",
      "b\"{'Director': 'Jacques Rouffio', 'Writers': 'Jacques Rouffio,Jacques Kirsner', 'Reviews': '7', 'Critic': '8', 'Country': 'France|West Germany', 'Language': 'French', 'Runtime': '110', 'Actors': '', 'IdMovie': '127258', 'IdIMDB': '0084479', 'BudgetCurrency': 'NA', 'BudgetValue': 0, 'GrossCurrency': 'NA', 'GrossValue': 0, 'OpeningWeekendCurrency': 'NA', 'OpeningWeekendValue': 0}\"\n",
      "b\"{'Reviews': '0', 'Critic': '0', 'Country': 'Italy|France', 'Language': 'French', 'Runtime': '183', 'Actors': '', 'IdMovie': '127262', 'IdIMDB': '0046866', 'BudgetCurrency': 'NA', 'BudgetValue': 0, 'GrossCurrency': 'NA', 'GrossValue': 0, 'OpeningWeekendCurrency': 'NA', 'OpeningWeekendValue': 0}\"\n",
      "b\"{'Director': 'Andr\\xc3\\xa9 Hunebelle', 'Writers': 'Pierre Foucaud,Paul F\\xc3\\xa9val', 'Reviews': '5', 'Critic': '3', 'Country': 'France|Italy', 'Language': 'French', 'Runtime': '105', 'Actors': '', 'IdMovie': '127264', 'IdIMDB': '0052644', 'BudgetCurrency': 'NA', 'BudgetValue': 0, 'GrossCurrency': 'NA', 'GrossValue': 0, 'OpeningWeekendCurrency': 'NA', 'OpeningWeekendValue': 0}\"\n",
      "b\"{'Reviews': '0', 'Critic': '0', 'Country': 'Canada', 'Language': 'English', 'Actors': '', 'IdMovie': '127274', 'IdIMDB': '0233911', 'Runtime': 0, 'BudgetCurrency': 'NA', 'BudgetValue': 0, 'GrossCurrency': 'NA', 'GrossValue': 0, 'OpeningWeekendCurrency': 'NA', 'OpeningWeekendValue': 0}\"\n",
      "b\"{'Reviews': '0', 'Critic': '0', 'Country': 'USA', 'Language': 'English', 'Runtime': '113', 'Actors': '', 'IdMovie': '127282', 'IdIMDB': '0066422', 'BudgetCurrency': 'NA', 'BudgetValue': 0, 'GrossCurrency': 'NA', 'GrossValue': 0, 'OpeningWeekendCurrency': 'NA', 'OpeningWeekendValue': 0}\"\n",
      "b\"{'Director': 'David Langlitz', 'Reviews': '3', 'Critic': '1', 'Country': 'USA', 'Language': 'English', 'BudgetCurrency': '$', 'BudgetValue': '500,000', 'Actors': '', 'IdMovie': '127286', 'IdIMDB': '0462421', 'Runtime': 0, 'GrossCurrency': 'NA', 'GrossValue': 0, 'OpeningWeekendCurrency': 'NA', 'OpeningWeekendValue': 0}\"\n",
      "b\"{'Director': 'Vladan Nikolic', 'Reviews': '11', 'Critic': '31', 'Country': 'USA', 'Language': 'English', 'Runtime': '93', 'Actors': '', 'IdMovie': '127292', 'IdIMDB': '1363468', 'BudgetCurrency': 'NA', 'BudgetValue': 0, 'GrossCurrency': 'NA', 'GrossValue': 0, 'OpeningWeekendCurrency': 'NA', 'OpeningWeekendValue': 0}\"\n",
      "b\"{'Reviews': '0', 'Critic': '0', 'Country': 'Brazil|Italy', 'Language': 'Portuguese', 'BudgetCurrency': 'B', 'BudgetValue': 'RL800,000', 'Runtime': '113', 'Actors': '', 'IdMovie': '127294', 'IdIMDB': '1039960', 'GrossCurrency': 'NA', 'GrossValue': 0, 'OpeningWeekendCurrency': 'NA', 'OpeningWeekendValue': 0}\"\n",
      "b\"{'Director': 'Roy Andersson', 'Reviews': '54', 'Critic': '196', 'Country': 'Sweden|Germany|Norway|France|Denmark', 'Language': 'Swedish|English', 'Runtime': '101', 'Actors': '', 'IdMovie': '127298', 'IdIMDB': '1883180', 'BudgetCurrency': 'NA', 'BudgetValue': 0, 'GrossCurrency': 'NA', 'GrossValue': 0, 'OpeningWeekendCurrency': 'NA', 'OpeningWeekendValue': 0}\"\n",
      "b\"{'Reviews': '0', 'Critic': '0', 'Country': 'Japan', 'Language': 'Japanese', 'Runtime': '38', 'Actors': '', 'IdMovie': '127300', 'IdIMDB': '0070505', 'BudgetCurrency': 'NA', 'BudgetValue': 0, 'GrossCurrency': 'NA', 'GrossValue': 0, 'OpeningWeekendCurrency': 'NA', 'OpeningWeekendValue': 0}\"\n",
      "b\"{'Director': 'Anthony Waller', 'Writers': 'Everett De Roche,Anthony Waller', 'Reviews': '37', 'Critic': '15', 'Country': 'UK|USA|Hungary|Australia|Saudi Arabia|Tunisia', 'Language': 'English', 'BudgetCurrency': '$', 'BudgetValue': '22,000,000', 'Runtime': '86', 'Actors': '', 'IdMovie': '127302', 'IdIMDB': '0812352', 'GrossCurrency': 'NA', 'GrossValue': 0, 'OpeningWeekendCurrency': 'NA', 'OpeningWeekendValue': 0}\"\n",
      "b\"{'Director': 'Liv Ullmann', 'Writers': 'August Strindberg,Liv Ullmann', 'Reviews': '26', 'Critic': '91', 'Country': 'Norway|UK|France|Ireland', 'Language': 'English', 'Runtime': '129', 'Actors': '', 'IdMovie': '127305', 'IdIMDB': '2667960', 'BudgetCurrency': 'NA', 'BudgetValue': 0, 'GrossCurrency': 'NA', 'GrossValue': 0, 'OpeningWeekendCurrency': 'NA', 'OpeningWeekendValue': 0}\"\n",
      "b\"{'Director': 'St\\xc3\\xa9phane Robelin', 'Reviews': '6', 'Critic': '58', 'Country': 'France|Germany', 'Language': 'French|German', 'Runtime': '96', 'Actors': '', 'IdMovie': '127307', 'IdIMDB': '1674057', 'BudgetCurrency': 'NA', 'BudgetValue': 0, 'GrossCurrency': 'NA', 'GrossValue': 0, 'OpeningWeekendCurrency': 'NA', 'OpeningWeekendValue': 0}\"\n",
      "b\"{'Director': 'Gil Junger', 'Writers': 'David Kendall,Kathryn McCullough', 'Reviews': '0', 'Critic': '0', 'Country': 'USA', 'Language': 'English', 'Runtime': '82', 'Actors': '', 'IdMovie': '127309', 'IdIMDB': '1845866', 'BudgetCurrency': 'NA', 'BudgetValue': 0, 'GrossCurrency': 'NA', 'GrossValue': 0, 'OpeningWeekendCurrency': 'NA', 'OpeningWeekendValue': 0}\"\n",
      "b\"{'Reviews': '0', 'Critic': '0', 'Country': 'Italy', 'Language': 'English', 'BudgetCurrency': '$', 'BudgetValue': '9,700,000', 'Runtime': '111', 'Actors': '', 'IdMovie': '127313', 'IdIMDB': '0406754', 'GrossCurrency': 'NA', 'GrossValue': 0, 'OpeningWeekendCurrency': 'NA', 'OpeningWeekendValue': 0}\"\n",
      "b\"{'Director': 'Jaume Balaguer\\xc3\\xb3', 'Writers': 'Jaume Balaguer\\xc3\\xb3,Manu D\\xc3\\xadaz', 'Reviews': '58', 'Critic': '140', 'Country': 'Spain', 'Language': 'Spanish', 'BudgetCurrency': 'E', 'BudgetValue': 'UR3,000,000', 'Runtime': '95', 'Actors': '', 'IdMovie': '127321', 'IdIMDB': '1649443', 'GrossCurrency': 'NA', 'GrossValue': 0, 'OpeningWeekendCurrency': 'NA', 'OpeningWeekendValue': 0}\"\n",
      "b\"{'Director': 'Brian A. Miller (as Brian A Miller)', 'Writers': 'Andre Fabrizio,Jeremy Passmore', 'Reviews': '138', 'Critic': '36', 'Country': 'USA', 'Language': 'English', 'BudgetCurrency': '$', 'BudgetValue': '10,000,000', 'Runtime': '96', 'Actors': '', 'IdMovie': '127323', 'IdIMDB': '3480796', 'GrossCurrency': 'NA', 'GrossValue': 0, 'OpeningWeekendCurrency': 'NA', 'OpeningWeekendValue': 0}\"\n",
      "b\"{'Reviews': '0', 'Critic': '0', 'Country': 'Japan', 'Language': 'Japanese', 'BudgetCurrency': '$', 'BudgetValue': '90,000', 'Runtime': '96', 'Actors': '', 'IdMovie': '127325', 'IdIMDB': '0230367', 'GrossCurrency': 'NA', 'GrossValue': 0, 'OpeningWeekendCurrency': 'NA', 'OpeningWeekendValue': 0}\"\n",
      "b\"{'Reviews': '0', 'Critic': '0', 'Country': 'USA', 'Language': 'English', 'Runtime': '77', 'Actors': '', 'IdMovie': '127333', 'IdIMDB': '0047676', 'BudgetCurrency': 'NA', 'BudgetValue': 0, 'GrossCurrency': 'NA', 'GrossValue': 0, 'OpeningWeekendCurrency': 'NA', 'OpeningWeekendValue': 0}\"\n",
      "b\"{'Reviews': '0', 'Critic': '0', 'Country': 'USA', 'Language': 'English', 'BudgetCurrency': '$', 'BudgetValue': '1,008,000', 'Runtime': '90', 'Actors': '', 'IdMovie': '127335', 'IdIMDB': '0050526', 'GrossCurrency': 'NA', 'GrossValue': 0, 'OpeningWeekendCurrency': 'NA', 'OpeningWeekendValue': 0}\"\n",
      "b\"{'Reviews': '0', 'Critic': '0', 'Country': 'USA', 'Language': 'English|French', 'Runtime': '75', 'Actors': '', 'IdMovie': '127343', 'IdIMDB': '0023262', 'BudgetCurrency': 'NA', 'BudgetValue': 0, 'GrossCurrency': 'NA', 'GrossValue': 0, 'OpeningWeekendCurrency': 'NA', 'OpeningWeekendValue': 0}\"\n",
      "b\"{'Writers': 'Seth MacFarlane,Seth MacFarlane', 'Reviews': '24', 'Critic': '10', 'Country': 'USA', 'Language': 'English', 'Runtime': '48', 'Actors': '', 'IdMovie': '127390', 'IdIMDB': '0888817', 'BudgetCurrency': 'NA', 'BudgetValue': 0, 'GrossCurrency': 'NA', 'GrossValue': 0, 'OpeningWeekendCurrency': 'NA', 'OpeningWeekendValue': 0}\"\n",
      "b\"{'Director': 'Brant Sersen', 'Reviews': '8', 'Critic': '7', 'Country': 'USA', 'Language': 'English', 'Runtime': '90', 'Actors': '', 'IdMovie': '127419', 'IdIMDB': '2004419', 'BudgetCurrency': 'NA', 'BudgetValue': 0, 'GrossCurrency': 'NA', 'GrossValue': 0, 'OpeningWeekendCurrency': 'NA', 'OpeningWeekendValue': 0}\"\n",
      "b\"{'Reviews': '7', 'Critic': '51', 'Country': 'Nepal|USA', 'Language': 'Nepali|English', 'Runtime': '118', 'Actors': '', 'IdMovie': '127443', 'IdIMDB': '3103326', 'BudgetCurrency': 'NA', 'BudgetValue': 0, 'GrossCurrency': 'NA', 'GrossValue': 0, 'OpeningWeekendCurrency': 'NA', 'OpeningWeekendValue': 0}\"\n",
      "b\"{'Reviews': '0', 'Critic': '0', 'Country': 'Switzerland', 'Language': 'Swiss German|English|Hindi|Kannada', 'Runtime': '93', 'Actors': '', 'IdMovie': '127449', 'IdIMDB': '1131674', 'BudgetCurrency': 'NA', 'BudgetValue': 0, 'GrossCurrency': 'NA', 'GrossValue': 0, 'OpeningWeekendCurrency': 'NA', 'OpeningWeekendValue': 0}\"\n",
      "b\"{'Director': 'Gabriel Rojas Vera', 'Reviews': '3', 'Critic': '20', 'Country': 'Colombia', 'Language': 'Spanish', 'Runtime': '98', 'Actors': '', 'IdMovie': '127484', 'IdIMDB': '1754003', 'BudgetCurrency': 'NA', 'BudgetValue': 0, 'GrossCurrency': 'NA', 'GrossValue': 0, 'OpeningWeekendCurrency': 'NA', 'OpeningWeekendValue': 0}\"\n",
      "b\"{'Reviews': '0', 'Critic': '0', 'Country': 'Sweden', 'Language': 'Swedish', 'Runtime': '196', 'Actors': '', 'IdMovie': '127498', 'IdIMDB': '0115164', 'BudgetCurrency': 'NA', 'BudgetValue': 0, 'GrossCurrency': 'NA', 'GrossValue': 0, 'OpeningWeekendCurrency': 'NA', 'OpeningWeekendValue': 0}\"\n",
      "b\"{'Reviews': '0', 'Critic': '0', 'Country': 'Austria', 'Runtime': '77', 'IdMovie': '127577', 'IdIMDB': '4131208', 'Actors': 0, 'BudgetCurrency': 'NA', 'BudgetValue': 0, 'GrossCurrency': 'NA', 'GrossValue': 0, 'OpeningWeekendCurrency': 'NA', 'OpeningWeekendValue': 0}\"\n",
      "b\"{'Reviews': '0', 'Critic': '0', 'Country': 'France|Belgium', 'Language': 'French|Afrikaans|English|Dutch', 'Actors': '', 'IdMovie': '127579', 'IdIMDB': '1401643', 'Runtime': 0, 'BudgetCurrency': 'NA', 'BudgetValue': 0, 'GrossCurrency': 'NA', 'GrossValue': 0, 'OpeningWeekendCurrency': 'NA', 'OpeningWeekendValue': 0}\"\n",
      "b\"{'Reviews': '0', 'Critic': '0', 'Country': 'France', 'Language': 'French|Arabic', 'Runtime': '130', 'Actors': '', 'IdMovie': '127581', 'IdIMDB': '0239388', 'BudgetCurrency': 'NA', 'BudgetValue': 0, 'GrossCurrency': 'NA', 'GrossValue': 0, 'OpeningWeekendCurrency': 'NA', 'OpeningWeekendValue': 0}\"\n",
      "b\"{'Reviews': '0', 'Critic': '0', 'Country': 'Mexico', 'Language': 'Spanish', 'Runtime': '98', 'Actors': '', 'IdMovie': '127587', 'IdIMDB': '0042965', 'BudgetCurrency': 'NA', 'BudgetValue': 0, 'GrossCurrency': 'NA', 'GrossValue': 0, 'OpeningWeekendCurrency': 'NA', 'OpeningWeekendValue': 0}\"\n",
      "b\"{'Director': 'Osvaldo Civirani (as Richard Kean)', 'Writers': 'Tito Carpi,Osvaldo Civirani', 'Reviews': '24', 'Critic': '19', 'Country': 'Italy|Netherlands', 'Language': 'Italian', 'Runtime': '90', 'Actors': '', 'IdMovie': '127590', 'IdIMDB': '0068292', 'BudgetCurrency': 'NA', 'BudgetValue': 0, 'GrossCurrency': 'NA', 'GrossValue': 0, 'OpeningWeekendCurrency': 'NA', 'OpeningWeekendValue': 0}\"\n",
      "b\"{'Reviews': '0', 'Critic': '0', 'Country': 'USA', 'Language': 'English', 'Runtime': '136', 'Actors': '', 'IdMovie': '127594', 'IdIMDB': '0067761', 'BudgetCurrency': 'NA', 'BudgetValue': 0, 'GrossCurrency': 'NA', 'GrossValue': 0, 'OpeningWeekendCurrency': 'NA', 'OpeningWeekendValue': 0}\"\n",
      "b\"{'Reviews': '0', 'Critic': '0', 'Country': 'USA', 'Language': 'English', 'Runtime': '100', 'Actors': '', 'IdMovie': '127606', 'IdIMDB': '0070585', 'BudgetCurrency': 'NA', 'BudgetValue': 0, 'GrossCurrency': 'NA', 'GrossValue': 0, 'OpeningWeekendCurrency': 'NA', 'OpeningWeekendValue': 0}\"\n",
      "b\"{'Reviews': '0', 'Critic': '0', 'Country': 'Italy', 'Language': 'Italian', 'Runtime': '95', 'Actors': '', 'IdMovie': '127614', 'IdIMDB': '0041609', 'BudgetCurrency': 'NA', 'BudgetValue': 0, 'GrossCurrency': 'NA', 'GrossValue': 0, 'OpeningWeekendCurrency': 'NA', 'OpeningWeekendValue': 0}\"\n",
      "b\"{'Reviews': '0', 'Critic': '0', 'Country': 'Italy', 'Language': 'Italian', 'Runtime': '100', 'Actors': '', 'IdMovie': '127622', 'IdIMDB': '0049450', 'BudgetCurrency': 'NA', 'BudgetValue': 0, 'GrossCurrency': 'NA', 'GrossValue': 0, 'OpeningWeekendCurrency': 'NA', 'OpeningWeekendValue': 0}\"\n",
      "b\"{'Reviews': '0', 'Critic': '0', 'Country': 'Italy|Spain|France|USA', 'Language': 'English', 'Runtime': '98', 'Actors': '', 'IdMovie': '127628', 'IdIMDB': '0069833', 'BudgetCurrency': 'NA', 'BudgetValue': 0, 'GrossCurrency': 'NA', 'GrossValue': 0, 'OpeningWeekendCurrency': 'NA', 'OpeningWeekendValue': 0}\"\n",
      "b\"{'Director': 'Jeff Kanew', 'Reviews': '24', 'Critic': '12', 'Country': 'USA', 'Language': 'English', 'Runtime': '90', 'Actors': '', 'IdMovie': '127630', 'IdIMDB': '1059887', 'BudgetCurrency': 'NA', 'BudgetValue': 0, 'GrossCurrency': 'NA', 'GrossValue': 0, 'OpeningWeekendCurrency': 'NA', 'OpeningWeekendValue': 0}\"\n",
      "b\"{'Reviews': '0', 'Critic': '0', 'Country': 'UK', 'Language': 'English', 'Runtime': '106', 'Actors': '', 'IdMovie': '127636', 'IdIMDB': '0063647', 'BudgetCurrency': 'NA', 'BudgetValue': 0, 'GrossCurrency': 'NA', 'GrossValue': 0, 'OpeningWeekendCurrency': 'NA', 'OpeningWeekendValue': 0}\"\n",
      "b\"{'Reviews': '0', 'Critic': '0', 'Country': 'USA', 'Language': 'English', 'Runtime': '93', 'Actors': '', 'IdMovie': '127638', 'IdIMDB': '0066209', 'BudgetCurrency': 'NA', 'BudgetValue': 0, 'GrossCurrency': 'NA', 'GrossValue': 0, 'OpeningWeekendCurrency': 'NA', 'OpeningWeekendValue': 0}\"\n",
      "b\"{'Reviews': '0', 'Critic': '0', 'Country': 'USA', 'Language': 'English', 'Runtime': '210', 'Actors': '', 'IdMovie': '127644', 'IdIMDB': '0076841', 'BudgetCurrency': 'NA', 'BudgetValue': 0, 'GrossCurrency': 'NA', 'GrossValue': 0, 'OpeningWeekendCurrency': 'NA', 'OpeningWeekendValue': 0}\"\n",
      "b\"{'Reviews': '20', 'Critic': '2', 'Country': 'USA', 'Language': 'English', 'Runtime': '200', 'Actors': '', 'IdMovie': '127646', 'IdIMDB': '0084919', 'BudgetCurrency': 'NA', 'BudgetValue': 0, 'GrossCurrency': 'NA', 'GrossValue': 0, 'OpeningWeekendCurrency': 'NA', 'OpeningWeekendValue': 0}\"\n",
      "b\"{'Reviews': '0', 'Critic': '0', 'Country': 'France', 'Language': 'French', 'Runtime': '96', 'Actors': '', 'IdMovie': '127650', 'IdIMDB': '3660370', 'BudgetCurrency': 'NA', 'BudgetValue': 0, 'GrossCurrency': 'NA', 'GrossValue': 0, 'OpeningWeekendCurrency': 'NA', 'OpeningWeekendValue': 0}\"\n",
      "b\"{'Reviews': '0', 'Critic': '0', 'Country': 'Germany', 'Language': 'German|Vietnamese', 'Runtime': '123', 'Actors': '', 'IdMovie': '127652', 'IdIMDB': '4076058', 'BudgetCurrency': 'NA', 'BudgetValue': 0, 'GrossCurrency': 'NA', 'GrossValue': 0, 'OpeningWeekendCurrency': 'NA', 'OpeningWeekendValue': 0}\"\n",
      "b\"{'Reviews': '0', 'Critic': '0', 'Country': 'Russia', 'Language': 'Russian', 'Runtime': '82', 'Actors': '', 'IdMovie': '127658', 'IdIMDB': '3105350', 'BudgetCurrency': 'NA', 'BudgetValue': 0, 'GrossCurrency': 'NA', 'GrossValue': 0, 'OpeningWeekendCurrency': 'NA', 'OpeningWeekendValue': 0}\"\n",
      "b\"{'Reviews': '0', 'Critic': '0', 'Country': 'Italy', 'Language': 'Italian|German|English', 'Runtime': '83', 'Actors': '', 'IdMovie': '127660', 'IdIMDB': '0038327', 'BudgetCurrency': 'NA', 'BudgetValue': 0, 'GrossCurrency': 'NA', 'GrossValue': 0, 'OpeningWeekendCurrency': 'NA', 'OpeningWeekendValue': 0}\"\n",
      "b\"{'Reviews': '0', 'Critic': '0', 'Country': 'Italy', 'Language': 'Italian', 'Runtime': '115', 'Actors': '', 'IdMovie': '127665', 'IdIMDB': '0045504', 'BudgetCurrency': 'NA', 'BudgetValue': 0, 'GrossCurrency': 'NA', 'GrossValue': 0, 'OpeningWeekendCurrency': 'NA', 'OpeningWeekendValue': 0}\"\n",
      "b\"{'Reviews': '0', 'Critic': '0', 'Country': 'Italy|France', 'Language': 'Italian', 'Runtime': '102', 'Actors': '', 'IdMovie': '127667', 'IdIMDB': '0046352', 'BudgetCurrency': 'NA', 'BudgetValue': 0, 'GrossCurrency': 'NA', 'GrossValue': 0, 'OpeningWeekendCurrency': 'NA', 'OpeningWeekendValue': 0}\"\n",
      "b\"{'Reviews': '0', 'Critic': '0', 'Country': 'Italy', 'Language': 'Italian', 'Runtime': '100', 'Actors': '', 'IdMovie': '127681', 'IdIMDB': '0067932', 'BudgetCurrency': 'NA', 'BudgetValue': 0, 'GrossCurrency': 'NA', 'GrossValue': 0, 'OpeningWeekendCurrency': 'NA', 'OpeningWeekendValue': 0}\"\n",
      "b\"{'Reviews': '0', 'Critic': '0', 'Country': 'Italy', 'Language': 'Italian', 'Runtime': '107', 'Actors': '', 'IdMovie': '127685', 'IdIMDB': '0155830', 'BudgetCurrency': 'NA', 'BudgetValue': 0, 'GrossCurrency': 'NA', 'GrossValue': 0, 'OpeningWeekendCurrency': 'NA', 'OpeningWeekendValue': 0}\"\n",
      "b\"{'Director': 'Andr\\xc3\\xa9 T\\xc3\\xa9chin\\xc3\\xa9', 'Writers': 'Gilles Taurand,Andr\\xc3\\xa9 T\\xc3\\xa9chin\\xc3\\xa9', 'Reviews': '4', 'Critic': '10', 'Country': 'France', 'Language': 'French', 'Runtime': '95', 'Actors': '', 'IdMovie': '127692', 'IdIMDB': '0082539', 'BudgetCurrency': 'NA', 'BudgetValue': 0, 'GrossCurrency': 'NA', 'GrossValue': 0, 'OpeningWeekendCurrency': 'NA', 'OpeningWeekendValue': 0}\"\n",
      "b\"{'Reviews': '0', 'Critic': '0', 'Country': 'France|Italy', 'Language': 'French', 'Runtime': '107', 'Actors': '', 'IdMovie': '127695', 'IdIMDB': '0102136', 'BudgetCurrency': 'NA', 'BudgetValue': 0, 'GrossCurrency': 'NA', 'GrossValue': 0, 'OpeningWeekendCurrency': 'NA', 'OpeningWeekendValue': 0}\"\n",
      "b\"{'Director': 'Andr\\xc3\\xa9 T\\xc3\\xa9chin\\xc3\\xa9', 'Writers': 'Andr\\xc3\\xa9 T\\xc3\\xa9chin\\xc3\\xa9,Mehdi Ben Attia', 'Reviews': '9', 'Critic': '33', 'Country': 'France|Italy', 'Language': 'French|Italian', 'Runtime': '111', 'Actors': '', 'IdMovie': '127699', 'IdIMDB': '1583737', 'BudgetCurrency': 'NA', 'BudgetValue': 0, 'GrossCurrency': 'NA', 'GrossValue': 0, 'OpeningWeekendCurrency': 'NA', 'OpeningWeekendValue': 0}\"\n",
      "b\"{'Reviews': '0', 'Critic': '0', 'Country': 'Austria|France|Italy', 'Language': 'German', 'Runtime': '95', 'Actors': '', 'IdMovie': '127705', 'IdIMDB': '0060600', 'BudgetCurrency': 'NA', 'BudgetValue': 0, 'GrossCurrency': 'NA', 'GrossValue': 0, 'OpeningWeekendCurrency': 'NA', 'OpeningWeekendValue': 0}\"\n",
      "b\"{'Reviews': '0', 'Critic': '0', 'Country': 'Austria|Italy|Yugoslavia|Singapore', 'Language': 'German|Italian', 'Runtime': '92', 'Actors': '', 'IdMovie': '127707', 'IdIMDB': '0060076', 'BudgetCurrency': 'NA', 'BudgetValue': 0, 'GrossCurrency': 'NA', 'GrossValue': 0, 'OpeningWeekendCurrency': 'NA', 'OpeningWeekendValue': 0}\"\n",
      "b\"{'Reviews': '0', 'Critic': '0', 'Country': 'Italy|France|West Germany|Yugoslavia', 'Language': 'Italian', 'Actors': '', 'IdMovie': '127709', 'IdIMDB': '0061646', 'Runtime': 0, 'BudgetCurrency': 'NA', 'BudgetValue': 0, 'GrossCurrency': 'NA', 'GrossValue': 0, 'OpeningWeekendCurrency': 'NA', 'OpeningWeekendValue': 0}\"\n",
      "b\"{'Reviews': '0', 'Critic': '0', 'Country': 'Italy|West Germany', 'Language': 'Italian|English', 'BudgetCurrency': 'I', 'BudgetValue': 'TL137,000,000', 'Runtime': '95', 'Actors': '', 'IdMovie': '127715', 'IdIMDB': '0063568', 'GrossCurrency': 'NA', 'GrossValue': 0, 'OpeningWeekendCurrency': 'NA', 'OpeningWeekendValue': 0}\"\n",
      "b\"{'Reviews': '0', 'Critic': '0', 'Country': 'USA', 'Language': 'English', 'Runtime': '83', 'Actors': '', 'IdMovie': '127728', 'IdIMDB': '0847833', 'BudgetCurrency': 'NA', 'BudgetValue': 0, 'GrossCurrency': 'NA', 'GrossValue': 0, 'OpeningWeekendCurrency': 'NA', 'OpeningWeekendValue': 0}\"\n",
      "b\"{'Reviews': '0', 'Critic': '0', 'Country': 'USA', 'Language': 'English', 'BudgetCurrency': '$', 'BudgetValue': '200,000', 'Runtime': '85', 'Actors': '', 'IdMovie': '127839', 'IdIMDB': '0131449', 'GrossCurrency': 'NA', 'GrossValue': 0, 'OpeningWeekendCurrency': 'NA', 'OpeningWeekendValue': 0}\"\n",
      "b\"{'Director': 'Kevin Tomlinson', 'Reviews': '3', 'Critic': '1', 'Country': 'USA', 'Language': 'English|Italian|Spanish', 'Runtime': '70', 'Actors': '', 'IdMovie': '127845', 'IdIMDB': '1436553', 'BudgetCurrency': 'NA', 'BudgetValue': 0, 'GrossCurrency': 'NA', 'GrossValue': 0, 'OpeningWeekendCurrency': 'NA', 'OpeningWeekendValue': 0}\"\n",
      "b\"{'Reviews': '0', 'Critic': '0', 'Country': 'USA', 'Language': 'English', 'Runtime': '100', 'Actors': '', 'IdMovie': '127851', 'IdIMDB': '0076192', 'BudgetCurrency': 'NA', 'BudgetValue': 0, 'GrossCurrency': 'NA', 'GrossValue': 0, 'OpeningWeekendCurrency': 'NA', 'OpeningWeekendValue': 0}\"\n",
      "b\"{'Reviews': '0', 'Critic': '0', 'Country': 'USA|Canada', 'Language': 'English', 'BudgetCurrency': '$', 'BudgetValue': '1,500,000', 'Runtime': '92', 'Actors': '', 'IdMovie': '127859', 'IdIMDB': '1137477', 'GrossCurrency': 'NA', 'GrossValue': 0, 'OpeningWeekendCurrency': 'NA', 'OpeningWeekendValue': 0}\"\n",
      "b\"{'Reviews': '0', 'Critic': '0', 'Country': 'USA', 'Language': 'English', 'Actors': '', 'IdMovie': '127863', 'IdIMDB': '0310024', 'Runtime': 0, 'BudgetCurrency': 'NA', 'BudgetValue': 0, 'GrossCurrency': 'NA', 'GrossValue': 0, 'OpeningWeekendCurrency': 'NA', 'OpeningWeekendValue': 0}\"\n",
      "b\"{'Director': 'Jim Wynorski (as Jay Andrews)', 'Writers': 'Anthony L. Greene,Ion Ionescu |2 more credits\\\\xa0\\xc2\\xbb', 'Reviews': '37', 'Critic': '14', 'Country': 'USA|Romania|Canada', 'Language': 'English|Romanian', 'Runtime': '87', 'Actors': '', 'IdMovie': '127865', 'IdIMDB': '0409999', 'BudgetCurrency': 'NA', 'BudgetValue': 0, 'GrossCurrency': 'NA', 'GrossValue': 0, 'OpeningWeekendCurrency': 'NA', 'OpeningWeekendValue': 0}\"\n",
      "b\"{'Director': 'Ernie Barbarash', 'Reviews': '40', 'Critic': '16', 'Country': 'Canada|USA', 'Language': 'English', 'BudgetCurrency': '$', 'BudgetValue': '5,000,000', 'Actors': '', 'IdMovie': '127867', 'IdIMDB': '1405412', 'Runtime': 0, 'GrossCurrency': 'NA', 'GrossValue': 0, 'OpeningWeekendCurrency': 'NA', 'OpeningWeekendValue': 0}\"\n",
      "b\"{'Director': 'William Shatner', 'Writers': 'Maurice Hurley,William Shatner', 'Reviews': '19', 'Critic': '6', 'Country': 'USA', 'Language': 'English', 'BudgetCurrency': '$', 'BudgetValue': '750,000', 'Runtime': '92', 'Actors': '', 'IdMovie': '127869', 'IdIMDB': '0270393', 'GrossCurrency': 'NA', 'GrossValue': 0, 'OpeningWeekendCurrency': 'NA', 'OpeningWeekendValue': 0}\"\n",
      "b\"{'Reviews': '0', 'Critic': '0', 'Country': 'Estonia', 'Language': 'Estonian', 'Runtime': '74', 'Actors': '', 'IdMovie': '127875', 'IdIMDB': '3216380', 'BudgetCurrency': 'NA', 'BudgetValue': 0, 'GrossCurrency': 'NA', 'GrossValue': 0, 'OpeningWeekendCurrency': 'NA', 'OpeningWeekendValue': 0}\"\n",
      "b\"{'Director': 'Katie Wolfe', 'Writers': 'Witi Ihimaera,Witi Ihimaera', 'Reviews': '6', 'Critic': '9', 'Country': 'New Zealand', 'Language': 'English|Maori', 'BudgetCurrency': 'N', 'BudgetValue': 'ZD1,600,000', 'Actors': '', 'IdMovie': '127877', 'IdIMDB': '1754277', 'Runtime': 0, 'GrossCurrency': 'NA', 'GrossValue': 0, 'OpeningWeekendCurrency': 'NA', 'OpeningWeekendValue': 0}\"\n",
      "b\"{'Reviews': '0', 'Critic': '0', 'Country': 'Canada', 'Language': 'English', 'Runtime': '85', 'IdMovie': '127881', 'IdIMDB': '1572965', 'Actors': 0, 'BudgetCurrency': 'NA', 'BudgetValue': 0, 'GrossCurrency': 'NA', 'GrossValue': 0, 'OpeningWeekendCurrency': 'NA', 'OpeningWeekendValue': 0}\"\n",
      "b\"{'Reviews': '0', 'Critic': '0', 'Country': 'Soviet Union', 'Language': 'Georgian|Russian', 'Runtime': '87', 'Actors': '', 'IdMovie': '127987', 'IdIMDB': '0169828', 'BudgetCurrency': 'NA', 'BudgetValue': 0, 'GrossCurrency': 'NA', 'GrossValue': 0, 'OpeningWeekendCurrency': 'NA', 'OpeningWeekendValue': 0}\"\n",
      "b\"{'Reviews': '0', 'Critic': '0', 'Country': 'Soviet Union', 'Language': 'Georgian|Russian', 'Runtime': '97', 'Actors': '', 'IdMovie': '127991', 'IdIMDB': '0087349', 'BudgetCurrency': 'NA', 'BudgetValue': 0, 'GrossCurrency': 'NA', 'GrossValue': 0, 'OpeningWeekendCurrency': 'NA', 'OpeningWeekendValue': 0}\"\n",
      "b\"{'Reviews': '0', 'Critic': '0', 'Country': 'Soviet Union', 'Language': 'Russian', 'Runtime': '138', 'Actors': '', 'IdMovie': '127995', 'IdIMDB': '0063332', 'BudgetCurrency': 'NA', 'BudgetValue': 0, 'GrossCurrency': 'NA', 'GrossValue': 0, 'OpeningWeekendCurrency': 'NA', 'OpeningWeekendValue': 0}\"\n",
      "b\"{'Reviews': '0', 'Critic': '0', 'Country': 'Soviet Union', 'Language': 'Russian', 'BudgetCurrency': '$', 'BudgetValue': '70,000,000', 'Runtime': '182', 'Actors': '', 'IdMovie': '127997', 'IdIMDB': '0066969', 'GrossCurrency': 'NA', 'GrossValue': 0, 'OpeningWeekendCurrency': 'NA', 'OpeningWeekendValue': 0}\"\n",
      "b\"{'Reviews': '0', 'Critic': '0', 'Country': 'Soviet Union', 'Language': 'Russian', 'Runtime': '135', 'Actors': '', 'IdMovie': '128001', 'IdIMDB': '0086638', 'BudgetCurrency': 'NA', 'BudgetValue': 0, 'GrossCurrency': 'NA', 'GrossValue': 0, 'OpeningWeekendCurrency': 'NA', 'OpeningWeekendValue': 0}\"\n",
      "b\"{'Reviews': '0', 'Critic': '0', 'Country': 'France', 'Language': 'French', 'Runtime': '61', 'Actors': '', 'IdMovie': '128003', 'IdIMDB': '0003037', 'BudgetCurrency': 'NA', 'BudgetValue': 0, 'GrossCurrency': 'NA', 'GrossValue': 0, 'OpeningWeekendCurrency': 'NA', 'OpeningWeekendValue': 0}\"\n",
      "b\"{'Reviews': '0', 'Critic': '0', 'Country': 'France', 'Language': 'French', 'Runtime': '90', 'Actors': '', 'IdMovie': '128005', 'IdIMDB': '0003165', 'BudgetCurrency': 'NA', 'BudgetValue': 0, 'GrossCurrency': 'NA', 'GrossValue': 0, 'OpeningWeekendCurrency': 'NA', 'OpeningWeekendValue': 0}\"\n",
      "b\"{'Reviews': '0', 'Critic': '0', 'Country': 'Italy|West Germany', 'Language': 'Italian|German', 'Runtime': '156', 'Actors': '', 'IdMovie': '7336', 'IdIMDB': '0064118', 'BudgetCurrency': 'NA', 'BudgetValue': 0, 'GrossCurrency': 'NA', 'GrossValue': 0, 'OpeningWeekendCurrency': 'NA', 'OpeningWeekendValue': 0}\"\n",
      "b\"{'Reviews': '0', 'Critic': '0', 'Country': 'France', 'Language': 'French', 'Runtime': '70', 'Actors': '', 'IdMovie': '128009', 'IdIMDB': '0003952', 'BudgetCurrency': 'NA', 'BudgetValue': 0, 'GrossCurrency': 'NA', 'GrossValue': 0, 'OpeningWeekendCurrency': 'NA', 'OpeningWeekendValue': 0}\"\n",
      "b\"{'Reviews': '0', 'Critic': '0', 'Country': 'USA', 'Language': 'English', 'Runtime': '96', 'Actors': '', 'IdMovie': '128017', 'IdIMDB': '0034340', 'BudgetCurrency': 'NA', 'BudgetValue': 0, 'GrossCurrency': 'NA', 'GrossValue': 0, 'OpeningWeekendCurrency': 'NA', 'OpeningWeekendValue': 0}\"\n",
      "b\"{'Reviews': '0', 'Critic': '0', 'Country': 'USA', 'Language': 'English', 'Runtime': '100', 'Actors': '', 'IdMovie': '7340', 'IdIMDB': '0089393', 'BudgetCurrency': 'NA', 'BudgetValue': 0, 'GrossCurrency': 'NA', 'GrossValue': 0, 'OpeningWeekendCurrency': 'NA', 'OpeningWeekendValue': 0}\"\n",
      "b\"{'Reviews': '0', 'Critic': '0', 'Country': 'USA', 'Language': 'English', 'Runtime': '75', 'Actors': '', 'IdMovie': '128027', 'IdIMDB': '0051665', 'BudgetCurrency': 'NA', 'BudgetValue': 0, 'GrossCurrency': 'NA', 'GrossValue': 0, 'OpeningWeekendCurrency': 'NA', 'OpeningWeekendValue': 0}\"\n",
      "b\"{'Reviews': '0', 'Critic': '0', 'Country': 'UK', 'Language': 'English', 'Runtime': '94', 'Actors': '', 'IdMovie': '7344', 'IdIMDB': '0056704', 'BudgetCurrency': 'NA', 'BudgetValue': 0, 'GrossCurrency': 'NA', 'GrossValue': 0, 'OpeningWeekendCurrency': 'NA', 'OpeningWeekendValue': 0}\"\n",
      "b\"{'Director': 'Kevin Allen', 'Writers': 'Jeffrey Jurgensen,Harald Zwart', 'Reviews': '48', 'Critic': '58', 'Country': 'USA|UK', 'Language': 'English', 'BudgetCurrency': '$', 'BudgetValue': '26,000,000', 'Runtime': '100', 'Actors': '', 'IdMovie': '7345', 'IdIMDB': '0358349', 'GrossCurrency': 'NA', 'GrossValue': 0, 'OpeningWeekendCurrency': 'NA', 'OpeningWeekendValue': 0}\"\n",
      "b\"{'Director': 'Luke Greenfield', 'Writers': 'David Wagner,Brent Goldberg', 'Reviews': '537', 'Critic': '118', 'Country': 'USA', 'Language': 'English', 'BudgetCurrency': '$', 'BudgetValue': '25,000,000', 'Runtime': '109', 'Actors': '', 'IdMovie': '7346', 'IdIMDB': '0265208', 'GrossCurrency': 'NA', 'GrossValue': 0, 'OpeningWeekendCurrency': 'NA', 'OpeningWeekendValue': 0}\"\n",
      "b\"{'Reviews': '0', 'Critic': '0', 'Country': 'USA|Canada', 'Language': 'English', 'Runtime': '90', 'Actors': '', 'IdMovie': '128033', 'IdIMDB': '0091832', 'BudgetCurrency': 'NA', 'BudgetValue': 0, 'GrossCurrency': 'NA', 'GrossValue': 0, 'OpeningWeekendCurrency': 'NA', 'OpeningWeekendValue': 0}\"\n",
      "b\"{'Director': 'David Koepp', 'Writers': 'Stephen King,David Koepp', 'Reviews': '554', 'Critic': '200', 'Country': 'USA', 'Language': 'English', 'BudgetCurrency': '$', 'BudgetValue': '40,000,000', 'Runtime': '96', 'Actors': '', 'IdMovie': '7347', 'IdIMDB': '0363988', 'GrossCurrency': 'NA', 'GrossValue': 0, 'OpeningWeekendCurrency': 'NA', 'OpeningWeekendValue': 0}\"\n",
      "b\"{'Reviews': '0', 'Critic': '0', 'Country': 'USA', 'Language': 'English', 'Runtime': '82', 'Actors': '', 'IdMovie': '128035', 'IdIMDB': '0094237', 'BudgetCurrency': 'NA', 'BudgetValue': 0, 'GrossCurrency': 'NA', 'GrossValue': 0, 'OpeningWeekendCurrency': 'NA', 'OpeningWeekendValue': 0}\"\n",
      "b\"{'Reviews': '0', 'Critic': '0', 'Country': 'USA', 'Language': 'English', 'Actors': '', 'IdMovie': '7350', 'IdIMDB': '0371683', 'Runtime': 0, 'BudgetCurrency': 'NA', 'BudgetValue': 0, 'GrossCurrency': 'NA', 'GrossValue': 0, 'OpeningWeekendCurrency': 'NA', 'OpeningWeekendValue': 0}\"\n",
      "b\"{'Reviews': '0', 'Critic': '0', 'Country': 'USA', 'Language': 'English', 'Runtime': '88', 'Actors': '', 'IdMovie': '128045', 'IdIMDB': '0285976', 'BudgetCurrency': 'NA', 'BudgetValue': 0, 'GrossCurrency': 'NA', 'GrossValue': 0, 'OpeningWeekendCurrency': 'NA', 'OpeningWeekendValue': 0}\"\n",
      "b\"{'Reviews': '0', 'Critic': '0', 'Country': 'USA', 'Language': 'English', 'Runtime': '103', 'Actors': '', 'IdMovie': '128047', 'IdIMDB': '0309531', 'BudgetCurrency': 'NA', 'BudgetValue': 0, 'GrossCurrency': 'NA', 'GrossValue': 0, 'OpeningWeekendCurrency': 'NA', 'OpeningWeekendValue': 0}\"\n",
      "b\"{'Reviews': '0', 'Critic': '0', 'Country': 'USA', 'Language': 'English', 'BudgetCurrency': '$', 'BudgetValue': '1,125,000', 'Runtime': '102', 'Actors': '', 'IdMovie': '128051', 'IdIMDB': '0048805', 'GrossCurrency': 'NA', 'GrossValue': 0, 'OpeningWeekendCurrency': 'NA', 'OpeningWeekendValue': 0}\"\n",
      "b\"{'Reviews': '0', 'Critic': '0', 'Country': 'UK|USA|West Germany', 'Language': 'English', 'BudgetCurrency': '$', 'BudgetValue': '10,000,000', 'Runtime': '107', 'Actors': '', 'IdMovie': '7356', 'IdIMDB': '0082810', 'GrossCurrency': 'NA', 'GrossValue': 0, 'OpeningWeekendCurrency': 'NA', 'OpeningWeekendValue': 0}\"\n",
      "b\"{'Director': 'Mark Robson', 'Writers': 'John Michael Hayes,Grace Metalious', 'Reviews': '91', 'Critic': '30', 'Country': 'USA', 'Language': 'English', 'Runtime': '157', 'Actors': '', 'IdMovie': '7357', 'IdIMDB': '0050839', 'BudgetCurrency': 'NA', 'BudgetValue': 0, 'GrossCurrency': 'NA', 'GrossValue': 0, 'OpeningWeekendCurrency': 'NA', 'OpeningWeekendValue': 0}\"\n",
      "b\"{'Reviews': '0', 'Critic': '0', 'Country': 'South Africa', 'Language': 'English', 'Runtime': '96', 'Actors': '', 'IdMovie': '128065', 'IdIMDB': '0061445', 'BudgetCurrency': 'NA', 'BudgetValue': 0, 'GrossCurrency': 'NA', 'GrossValue': 0, 'OpeningWeekendCurrency': 'NA', 'OpeningWeekendValue': 0}\"\n",
      "b\"{'Director': 'Rosanna Arquette', 'Reviews': '44', 'Critic': '11', 'Country': 'USA', 'Language': 'English', 'BudgetCurrency': '$', 'BudgetValue': '600,000', 'Runtime': '97', 'Actors': '', 'IdMovie': '7358', 'IdIMDB': '0318049', 'GrossCurrency': 'NA', 'GrossValue': 0, 'OpeningWeekendCurrency': 'NA', 'OpeningWeekendValue': 0}\"\n",
      "b\"{'Reviews': '0', 'Critic': '0', 'Country': 'Italy|West Germany', 'Language': 'Italian|German', 'Runtime': '102', 'Actors': '', 'IdMovie': '128067', 'IdIMDB': '0060697', 'BudgetCurrency': 'NA', 'BudgetValue': 0, 'GrossCurrency': 'NA', 'GrossValue': 0, 'OpeningWeekendCurrency': 'NA', 'OpeningWeekendValue': 0}\"\n",
      "b\"{'Reviews': '0', 'Critic': '0', 'Country': 'Italy|Spain', 'Language': 'Spanish', 'Runtime': '92', 'Actors': '', 'IdMovie': '128069', 'IdIMDB': '0063548', 'BudgetCurrency': 'NA', 'BudgetValue': 0, 'GrossCurrency': 'NA', 'GrossValue': 0, 'OpeningWeekendCurrency': 'NA', 'OpeningWeekendValue': 0}\"\n",
      "b\"{'Reviews': '0', 'Critic': '0', 'Country': 'USA', 'Language': 'English', 'Runtime': '86', 'Actors': '', 'IdMovie': '7359', 'IdIMDB': '0094288', 'BudgetCurrency': 'NA', 'BudgetValue': 0, 'GrossCurrency': 'NA', 'GrossValue': 0, 'OpeningWeekendCurrency': 'NA', 'OpeningWeekendValue': 0}\"\n",
      "b\"{'Reviews': '0', 'Critic': '0', 'Country': 'Italy', 'Language': 'Italian', 'Runtime': '103', 'Actors': '', 'IdMovie': '128071', 'IdIMDB': '0065019', 'BudgetCurrency': 'NA', 'BudgetValue': 0, 'GrossCurrency': 'NA', 'GrossValue': 0, 'OpeningWeekendCurrency': 'NA', 'OpeningWeekendValue': 0}\"\n",
      "b\"{'Director': 'Zack Snyder', 'Writers': 'George A. Romero,James Gunn', 'Reviews': '1,096', 'Critic': '296', 'Country': 'USA|Canada|Japan|France', 'Language': 'English', 'BudgetCurrency': '$', 'BudgetValue': '26,000,000', 'Runtime': '101', 'Actors': '', 'IdMovie': '7360', 'IdIMDB': '0363547', 'GrossCurrency': 'NA', 'GrossValue': 0, 'OpeningWeekendCurrency': 'NA', 'OpeningWeekendValue': 0}\"\n",
      "b\"{'Director': 'Michel Gondry', 'Writers': 'Charlie Kaufman,Michel Gondry', 'Reviews': '1,750', 'Critic': '292', 'Country': 'USA', 'Language': 'English', 'BudgetCurrency': '$', 'BudgetValue': '20,000,000', 'Runtime': '108', 'Actors': '', 'IdMovie': '7361', 'IdIMDB': '0338013', 'GrossCurrency': 'NA', 'GrossValue': 0, 'OpeningWeekendCurrency': 'NA', 'OpeningWeekendValue': 0}\"\n",
      "b\"{'Reviews': '0', 'Critic': '0', 'Country': 'Italy', 'Language': 'Italian', 'Runtime': '78', 'Actors': '', 'IdMovie': '128079', 'IdIMDB': '0066333', 'BudgetCurrency': 'NA', 'BudgetValue': 0, 'GrossCurrency': 'NA', 'GrossValue': 0, 'OpeningWeekendCurrency': 'NA', 'OpeningWeekendValue': 0}\"\n",
      "b\"{'Reviews': '0', 'Critic': '0', 'Country': 'Italy', 'Language': 'Italian', 'Runtime': '90', 'Actors': '', 'IdMovie': '128083', 'IdIMDB': '0216546', 'BudgetCurrency': 'NA', 'BudgetValue': 0, 'GrossCurrency': 'NA', 'GrossValue': 0, 'OpeningWeekendCurrency': 'NA', 'OpeningWeekendValue': 0}\"\n",
      "b\"{'Reviews': '0', 'Critic': '0', 'Country': 'Italy|Spain', 'Language': 'Italian', 'Runtime': '99', 'Actors': '', 'IdMovie': '128085', 'IdIMDB': '0066167', 'BudgetCurrency': 'NA', 'BudgetValue': 0, 'GrossCurrency': 'NA', 'GrossValue': 0, 'OpeningWeekendCurrency': 'NA', 'OpeningWeekendValue': 0}\"\n",
      "b\"{'Reviews': '0', 'Critic': '0', 'Country': 'Italy', 'Language': 'Italian', 'Actors': '', 'IdMovie': '128087', 'IdIMDB': '0069409', 'Runtime': 0, 'BudgetCurrency': 'NA', 'BudgetValue': 0, 'GrossCurrency': 'NA', 'GrossValue': 0, 'OpeningWeekendCurrency': 'NA', 'OpeningWeekendValue': 0}\"\n",
      "b\"{'Director': 'Ernest R. Dickerson (as Ernest Dickerson)', 'Writers': 'Donald Goines,James Gibson', 'Reviews': '40', 'Critic': '57', 'Country': 'USA', 'Language': 'English', 'BudgetCurrency': '$', 'BudgetValue': '3,000,000', 'Runtime': '88', 'Actors': '', 'IdMovie': '7368', 'IdIMDB': '0354766', 'GrossCurrency': 'NA', 'GrossValue': 0, 'OpeningWeekendCurrency': 'NA', 'OpeningWeekendValue': 0}\"\n",
      "b\"{'Director': 'Shannon Hartman', 'Reviews': '0', 'Critic': '0', 'Country': 'USA', 'Language': 'English', 'BudgetCurrency': '$', 'BudgetValue': '150,000', 'Runtime': '73', 'Actors': '', 'IdMovie': '128089', 'IdIMDB': '1420554', 'GrossCurrency': 'NA', 'GrossValue': 0, 'OpeningWeekendCurrency': 'NA', 'OpeningWeekendValue': 0}\"\n",
      "b\"{'Director': 'Raja Gosnell', 'Writers': 'William Hanna,Joseph Barbera', 'Reviews': '169', 'Critic': '103', 'Country': 'USA|Canada', 'Language': 'English', 'BudgetCurrency': '$', 'BudgetValue': '80,000,000', 'Runtime': '93', 'Actors': '', 'IdMovie': '7369', 'IdIMDB': '0331632', 'GrossCurrency': 'NA', 'GrossValue': 0, 'OpeningWeekendCurrency': 'NA', 'OpeningWeekendValue': 0}\"\n",
      "b\"{'Director': 'Shannon Hartman', 'Reviews': '3', 'Critic': '2', 'Country': 'USA', 'Language': 'English', 'Runtime': '60', 'Actors': '', 'IdMovie': '128091', 'IdIMDB': '1395034', 'BudgetCurrency': 'NA', 'BudgetValue': 0, 'GrossCurrency': 'NA', 'GrossValue': 0, 'OpeningWeekendCurrency': 'NA', 'OpeningWeekendValue': 0}\"\n",
      "b\"{'Director': 'Lars von Trier (as Lars Von Trier)', 'Reviews': '636', 'Critic': '227', 'Country': 'Denmark|Netherlands|Sweden|Germany|UK|France|Finland|Norway|Italy', 'Language': 'English', 'BudgetCurrency': '$', 'BudgetValue': '10,000,000', 'Runtime': '178', 'Actors': '', 'IdMovie': '7371', 'IdIMDB': '0276919', 'GrossCurrency': 'NA', 'GrossValue': 0, 'OpeningWeekendCurrency': 'NA', 'OpeningWeekendValue': 0}\"\n",
      "b\"{'Reviews': '0', 'Critic': '0', 'Country': 'USA', 'Language': 'English', 'Runtime': '64', 'Actors': '', 'IdMovie': '128095', 'IdIMDB': '1820451', 'BudgetCurrency': 'NA', 'BudgetValue': 0, 'GrossCurrency': 'NA', 'GrossValue': 0, 'OpeningWeekendCurrency': 'NA', 'OpeningWeekendValue': 0}\"\n",
      "b\"{'Director': 'Shannon Hartman', 'Reviews': '0', 'Critic': '0', 'Country': 'USA', 'Language': 'English', 'Runtime': '61', 'Actors': '', 'IdMovie': '128097', 'IdIMDB': '3234126', 'BudgetCurrency': 'NA', 'BudgetValue': 0, 'GrossCurrency': 'NA', 'GrossValue': 0, 'OpeningWeekendCurrency': 'NA', 'OpeningWeekendValue': 0}\"\n",
      "b\"{'Director': 'Guillermo del Toro', 'Writers': 'Guillermo del Toro,Guillermo del Toro', 'Reviews': '649', 'Critic': '104', 'Country': 'USA', 'Language': 'English|Russian', 'BudgetCurrency': '$', 'BudgetValue': '66,000,000', 'Runtime': '122', 'Actors': '', 'IdMovie': '7373', 'IdIMDB': '0167190', 'GrossCurrency': 'NA', 'GrossValue': 0, 'OpeningWeekendCurrency': 'NA', 'OpeningWeekendValue': 0}\"\n",
      "b\"{'Director': 'Shannon Hartman', 'Reviews': '0', 'Critic': '0', 'Country': 'USA', 'Language': 'English', 'Runtime': '77', 'Actors': '', 'IdMovie': '128099', 'IdIMDB': '3958494', 'BudgetCurrency': 'NA', 'BudgetValue': 0, 'GrossCurrency': 'NA', 'GrossValue': 0, 'OpeningWeekendCurrency': 'NA', 'OpeningWeekendValue': 0}\"\n",
      "b\"{'Writers': 'Will Finn,John Sanford |15 more credits\\\\xa0\\xc2\\xbb', 'Reviews': '101', 'Critic': '101', 'Country': 'USA', 'Language': 'English|Mandarin', 'BudgetCurrency': '$', 'BudgetValue': '110,000,000', 'Runtime': '76', 'Actors': '', 'IdMovie': '7374', 'IdIMDB': '0299172', 'GrossCurrency': 'NA', 'GrossValue': 0, 'OpeningWeekendCurrency': 'NA', 'OpeningWeekendValue': 0}\"\n",
      "b\"{'Reviews': '0', 'Critic': '0', 'Country': 'UK', 'Language': 'English', 'BudgetCurrency': 'G', 'BudgetValue': 'BP750,000', 'Runtime': '109', 'Actors': '', 'IdMovie': '128101', 'IdIMDB': '0071760', 'GrossCurrency': 'NA', 'GrossValue': 0, 'OpeningWeekendCurrency': 'NA', 'OpeningWeekendValue': 0}\"\n",
      "b\"{'Director': 'Martha Coolidge', 'Writers': 'Mark Amin,Katherine Fugate', 'Reviews': '158', 'Critic': '84', 'Country': 'USA|Czech Republic', 'Language': 'English|Danish|German', 'BudgetCurrency': '$', 'BudgetValue': '22,000,000', 'Runtime': '111', 'Actors': '', 'IdMovie': '7375', 'IdIMDB': '0337697', 'GrossCurrency': 'NA', 'GrossValue': 0, 'OpeningWeekendCurrency': 'NA', 'OpeningWeekendValue': 0}\"\n",
      "b\"{'Reviews': '0', 'Critic': '0', 'Country': 'USA', 'Language': 'English', 'BudgetCurrency': '$', 'BudgetValue': '100,000', 'Runtime': '94', 'Actors': '', 'IdMovie': '128103', 'IdIMDB': '0074714', 'GrossCurrency': 'NA', 'GrossValue': 0, 'OpeningWeekendCurrency': 'NA', 'OpeningWeekendValue': 0}\"\n",
      "b\"{'Director': 'Kevin Bray', 'Writers': 'Mort Briskin,David Klass', 'Reviews': '220', 'Critic': '124', 'Country': 'USA', 'Language': 'English', 'BudgetCurrency': '$', 'BudgetValue': '46,000,000', 'Runtime': '86', 'Actors': '', 'IdMovie': '7376', 'IdIMDB': '0351977', 'GrossCurrency': 'NA', 'GrossValue': 0, 'OpeningWeekendCurrency': 'NA', 'OpeningWeekendValue': 0}\"\n",
      "b\"{'Reviews': '0', 'Critic': '0', 'Country': 'Italy|France|Spain', 'Language': 'Italian', 'Runtime': '90', 'Actors': '', 'IdMovie': '128105', 'IdIMDB': '0072662', 'BudgetCurrency': 'NA', 'BudgetValue': 0, 'GrossCurrency': 'NA', 'GrossValue': 0, 'OpeningWeekendCurrency': 'NA', 'OpeningWeekendValue': 0}\"\n",
      "b\"{'Director': 'Matthew Ryan Hoge', 'Reviews': '106', 'Critic': '65', 'Country': 'USA', 'Language': 'English', 'Runtime': '108', 'Actors': '', 'IdMovie': '7377', 'IdIMDB': '0301976', 'BudgetCurrency': 'NA', 'BudgetValue': 0, 'GrossCurrency': 'NA', 'GrossValue': 0, 'OpeningWeekendCurrency': 'NA', 'OpeningWeekendValue': 0}\"\n",
      "b\"{'Reviews': '0', 'Critic': '0', 'Country': 'Italy', 'Language': 'English', 'Runtime': '94', 'Actors': '', 'IdMovie': '128107', 'IdIMDB': '0189467', 'BudgetCurrency': 'NA', 'BudgetValue': 0, 'GrossCurrency': 'NA', 'GrossValue': 0, 'OpeningWeekendCurrency': 'NA', 'OpeningWeekendValue': 0}\"\n",
      "b\"{'Director': 'Christopher Erskin', 'Writers': 'Todd R. Jones,Earl Richey Jones', 'Reviews': '51', 'Critic': '44', 'Country': 'USA', 'Language': 'English', 'BudgetCurrency': '$', 'BudgetValue': '12,000,000', 'Runtime': '97', 'Actors': '', 'IdMovie': '7378', 'IdIMDB': '0359517', 'GrossCurrency': 'NA', 'GrossValue': 0, 'OpeningWeekendCurrency': 'NA', 'OpeningWeekendValue': 0}\"\n",
      "b\"{'Director': 'John Lee Hancock', 'Writers': 'Leslie Bohem,Stephen Gaghan |1 more credit\\\\xa0\\xc2\\xbb', 'Reviews': '304', 'Critic': '100', 'Country': 'USA', 'Language': 'English|Spanish', 'BudgetCurrency': '$', 'BudgetValue': '107,000,000', 'Runtime': '137', 'Actors': '', 'IdMovie': '7379', 'IdIMDB': '0318974', 'GrossCurrency': 'NA', 'GrossValue': 0, 'OpeningWeekendCurrency': 'NA', 'OpeningWeekendValue': 0}\"\n",
      "b\"{'Reviews': '0', 'Critic': '0', 'Country': 'USA', 'Language': 'English', 'Runtime': '87', 'Actors': '', 'IdMovie': '128109', 'IdIMDB': '0074430', 'BudgetCurrency': 'NA', 'BudgetValue': 0, 'GrossCurrency': 'NA', 'GrossValue': 0, 'OpeningWeekendCurrency': 'NA', 'OpeningWeekendValue': 0}\"\n",
      "b\"{'Reviews': '0', 'Critic': '0', 'Country': 'Italy', 'Language': 'Italian', 'Runtime': '88', 'Actors': '', 'IdMovie': '128113', 'IdIMDB': '0066346', 'BudgetCurrency': 'NA', 'BudgetValue': 0, 'GrossCurrency': 'NA', 'GrossValue': 0, 'OpeningWeekendCurrency': 'NA', 'OpeningWeekendValue': 0}\"\n",
      "b'{\\'Director\\': \"Tommy O\\'Haver\", \\'Writers\\': \\'Laurie Craig,Karen McCullah\\', \\'Reviews\\': \\'261\\', \\'Critic\\': \\'87\\', \\'Country\\': \\'USA|Ireland|UK\\', \\'Language\\': \\'English\\', \\'BudgetCurrency\\': \\'$\\', \\'BudgetValue\\': \\'31,000,000\\', \\'Runtime\\': \\'96\\', \\'Actors\\': \\'\\', \\'IdMovie\\': \\'7380\\', \\'IdIMDB\\': \\'0327679\\', \\'GrossCurrency\\': \\'NA\\', \\'GrossValue\\': 0, \\'OpeningWeekendCurrency\\': \\'NA\\', \\'OpeningWeekendValue\\': 0}'\n",
      "b\"{'Reviews': '0', 'Critic': '0', 'Country': 'Italy', 'Language': 'Italian', 'Actors': '', 'IdMovie': '128115', 'IdIMDB': '0183469', 'Runtime': 0, 'BudgetCurrency': 'NA', 'BudgetValue': 0, 'GrossCurrency': 'NA', 'GrossValue': 0, 'OpeningWeekendCurrency': 'NA', 'OpeningWeekendValue': 0}\"\n",
      "b\"{'Director': 'Howard Deutch', 'Writers': 'Mitchell Kapner,Mitchell Kapner', 'Reviews': '118', 'Critic': '75', 'Country': 'USA', 'Language': 'English|Hungarian|Hebrew', 'BudgetCurrency': '$', 'BudgetValue': '40,000,000', 'Runtime': '98', 'Actors': '', 'IdMovie': '7381', 'IdIMDB': '0327247', 'GrossCurrency': 'NA', 'GrossValue': 0, 'OpeningWeekendCurrency': 'NA', 'OpeningWeekendValue': 0}\"\n",
      "b\"{'Reviews': '0', 'Critic': '0', 'Country': 'Italy', 'Language': 'Italian', 'Actors': '', 'IdMovie': '128119', 'IdIMDB': '0378735', 'Runtime': 0, 'BudgetCurrency': 'NA', 'BudgetValue': 0, 'GrossCurrency': 'NA', 'GrossValue': 0, 'OpeningWeekendCurrency': 'NA', 'OpeningWeekendValue': 0}\"\n",
      "b\"{'Reviews': '0', 'Critic': '0', 'Country': 'Italy|Spain|UK', 'Language': 'Italian', 'Runtime': '108', 'Actors': '', 'IdMovie': '7382', 'IdIMDB': '0326977', 'BudgetCurrency': 'NA', 'BudgetValue': 0, 'GrossCurrency': 'NA', 'GrossValue': 0, 'OpeningWeekendCurrency': 'NA', 'OpeningWeekendValue': 0}\"\n",
      "b\"{'Reviews': '0', 'Critic': '0', 'Country': 'Italy|West Germany', 'Language': 'Italian', 'Runtime': '112', 'Actors': '', 'IdMovie': '128127', 'IdIMDB': '0062819', 'BudgetCurrency': 'NA', 'BudgetValue': 0, 'GrossCurrency': 'NA', 'GrossValue': 0, 'OpeningWeekendCurrency': 'NA', 'OpeningWeekendValue': 0}\"\n",
      "b\"{'Reviews': '0', 'Critic': '0', 'Country': 'USA', 'Language': 'English', 'BudgetCurrency': '$', 'BudgetValue': '10,000,000', 'Runtime': '101', 'Actors': '', 'IdMovie': '7383', 'IdIMDB': '0323939', 'GrossCurrency': 'NA', 'GrossValue': 0, 'OpeningWeekendCurrency': 'NA', 'OpeningWeekendValue': 0}\"\n",
      "b\"{'Reviews': '0', 'Critic': '0', 'Country': 'Italy|West Germany|Yugoslavia', 'Language': 'Italian', 'Runtime': '105', 'Actors': '', 'IdMovie': '128129', 'IdIMDB': '0068625', 'BudgetCurrency': 'NA', 'BudgetValue': 0, 'GrossCurrency': 'NA', 'GrossValue': 0, 'OpeningWeekendCurrency': 'NA', 'OpeningWeekendValue': 0}\"\n",
      "b\"{'Reviews': '0', 'Critic': '0', 'Country': 'France|Belgium|Georgia', 'Language': 'Georgian|French|Russian', 'Runtime': '103', 'Actors': '', 'IdMovie': '7384', 'IdIMDB': '0336264', 'BudgetCurrency': 'NA', 'BudgetValue': 0, 'GrossCurrency': 'NA', 'GrossValue': 0, 'OpeningWeekendCurrency': 'NA', 'OpeningWeekendValue': 0}\"\n",
      "b\"{'Reviews': '0', 'Critic': '0', 'Country': 'Italy', 'Language': 'Italian', 'Runtime': '102', 'Actors': '', 'IdMovie': '128131', 'IdIMDB': '0071187', 'BudgetCurrency': 'NA', 'BudgetValue': 0, 'GrossCurrency': 'NA', 'GrossValue': 0, 'OpeningWeekendCurrency': 'NA', 'OpeningWeekendValue': 0}\"\n",
      "b\"{'Director': 'Bruno Dumont', 'Reviews': '105', 'Critic': '102', 'Country': 'France|Germany|USA', 'Language': 'French|English|Russian', 'Runtime': '114', 'Actors': '', 'IdMovie': '7385', 'IdIMDB': '0315110', 'BudgetCurrency': 'NA', 'BudgetValue': 0, 'GrossCurrency': 'NA', 'GrossValue': 0, 'OpeningWeekendCurrency': 'NA', 'OpeningWeekendValue': 0}\"\n",
      "b\"{'Reviews': '0', 'Critic': '0', 'Country': 'Italy', 'Language': 'Italian', 'Runtime': '95', 'Actors': '', 'IdMovie': '128133', 'IdIMDB': '0076051', 'BudgetCurrency': 'NA', 'BudgetValue': 0, 'GrossCurrency': 'NA', 'GrossValue': 0, 'OpeningWeekendCurrency': 'NA', 'OpeningWeekendValue': 0}\"\n",
      "b\"{'Director': 'Cecil B. DeMille (as Cecil B. de Mille)', 'Writers': 'Dorothy Clarke Wilson,J.H. Ingraham', 'Reviews': '278', 'Critic': '71', 'Country': 'USA', 'Language': 'English', 'BudgetCurrency': '$', 'BudgetValue': '13,282,712', 'Runtime': '220', 'Actors': '', 'IdMovie': '7386', 'IdIMDB': '0049833', 'GrossCurrency': 'NA', 'GrossValue': 0, 'OpeningWeekendCurrency': 'NA', 'OpeningWeekendValue': 0}\"\n"
     ]
    },
    {
     "ename": "KeyboardInterrupt",
     "evalue": "",
     "output_type": "error",
     "traceback": [
      "\u001b[0;31m---------------------------------------------------------------------------\u001b[0m",
      "\u001b[0;31mKeyboardInterrupt\u001b[0m                         Traceback (most recent call last)",
      "\u001b[0;32m<ipython-input-47-f2f727e25a84>\u001b[0m in \u001b[0;36m<module>\u001b[0;34m()\u001b[0m\n\u001b[0;32m----> 1\u001b[0;31m \u001b[0;32mfor\u001b[0m \u001b[0mmessage\u001b[0m \u001b[0;32min\u001b[0m \u001b[0mconsumer\u001b[0m\u001b[0;34m:\u001b[0m\u001b[0;34m\u001b[0m\u001b[0m\n\u001b[0m\u001b[1;32m      2\u001b[0m     \u001b[0;31m# message value and key are raw bytes -- decode if necessary!\u001b[0m\u001b[0;34m\u001b[0m\u001b[0;34m\u001b[0m\u001b[0m\n\u001b[1;32m      3\u001b[0m     \u001b[0;31m# e.g., for unicode: `message.value.decode('utf-8')`\u001b[0m\u001b[0;34m\u001b[0m\u001b[0;34m\u001b[0m\u001b[0m\n\u001b[1;32m      4\u001b[0m     \u001b[0;31m#print (\"%s:%d:%d: key=%s value=%s\" % (message.topic, message.partition,\u001b[0m\u001b[0;34m\u001b[0m\u001b[0;34m\u001b[0m\u001b[0m\n\u001b[1;32m      5\u001b[0m     \u001b[0;31m#                                      message.offset, message.key,\u001b[0m\u001b[0;34m\u001b[0m\u001b[0;34m\u001b[0m\u001b[0m\n",
      "\u001b[0;32m~/opt/anaconda3/envs/opencv/lib/python3.6/site-packages/kafka/consumer/group.py\u001b[0m in \u001b[0;36m__next__\u001b[0;34m(self)\u001b[0m\n\u001b[1;32m   1179\u001b[0m             \u001b[0;32mreturn\u001b[0m \u001b[0mself\u001b[0m\u001b[0;34m.\u001b[0m\u001b[0mnext_v1\u001b[0m\u001b[0;34m(\u001b[0m\u001b[0;34m)\u001b[0m\u001b[0;34m\u001b[0m\u001b[0m\n\u001b[1;32m   1180\u001b[0m         \u001b[0;32melse\u001b[0m\u001b[0;34m:\u001b[0m\u001b[0;34m\u001b[0m\u001b[0m\n\u001b[0;32m-> 1181\u001b[0;31m             \u001b[0;32mreturn\u001b[0m \u001b[0mself\u001b[0m\u001b[0;34m.\u001b[0m\u001b[0mnext_v2\u001b[0m\u001b[0;34m(\u001b[0m\u001b[0;34m)\u001b[0m\u001b[0;34m\u001b[0m\u001b[0m\n\u001b[0m\u001b[1;32m   1182\u001b[0m \u001b[0;34m\u001b[0m\u001b[0m\n\u001b[1;32m   1183\u001b[0m     \u001b[0;32mdef\u001b[0m \u001b[0mnext_v2\u001b[0m\u001b[0;34m(\u001b[0m\u001b[0mself\u001b[0m\u001b[0;34m)\u001b[0m\u001b[0;34m:\u001b[0m\u001b[0;34m\u001b[0m\u001b[0m\n",
      "\u001b[0;32m~/opt/anaconda3/envs/opencv/lib/python3.6/site-packages/kafka/consumer/group.py\u001b[0m in \u001b[0;36mnext_v2\u001b[0;34m(self)\u001b[0m\n\u001b[1;32m   1187\u001b[0m                 \u001b[0mself\u001b[0m\u001b[0;34m.\u001b[0m\u001b[0m_iterator\u001b[0m \u001b[0;34m=\u001b[0m \u001b[0mself\u001b[0m\u001b[0;34m.\u001b[0m\u001b[0m_message_generator_v2\u001b[0m\u001b[0;34m(\u001b[0m\u001b[0;34m)\u001b[0m\u001b[0;34m\u001b[0m\u001b[0m\n\u001b[1;32m   1188\u001b[0m             \u001b[0;32mtry\u001b[0m\u001b[0;34m:\u001b[0m\u001b[0;34m\u001b[0m\u001b[0m\n\u001b[0;32m-> 1189\u001b[0;31m                 \u001b[0;32mreturn\u001b[0m \u001b[0mnext\u001b[0m\u001b[0;34m(\u001b[0m\u001b[0mself\u001b[0m\u001b[0;34m.\u001b[0m\u001b[0m_iterator\u001b[0m\u001b[0;34m)\u001b[0m\u001b[0;34m\u001b[0m\u001b[0m\n\u001b[0m\u001b[1;32m   1190\u001b[0m             \u001b[0;32mexcept\u001b[0m \u001b[0mStopIteration\u001b[0m\u001b[0;34m:\u001b[0m\u001b[0;34m\u001b[0m\u001b[0m\n\u001b[1;32m   1191\u001b[0m                 \u001b[0mself\u001b[0m\u001b[0;34m.\u001b[0m\u001b[0m_iterator\u001b[0m \u001b[0;34m=\u001b[0m \u001b[0;32mNone\u001b[0m\u001b[0;34m\u001b[0m\u001b[0m\n",
      "\u001b[0;32m~/opt/anaconda3/envs/opencv/lib/python3.6/site-packages/kafka/consumer/group.py\u001b[0m in \u001b[0;36m_message_generator_v2\u001b[0;34m(self)\u001b[0m\n\u001b[1;32m   1104\u001b[0m     \u001b[0;32mdef\u001b[0m \u001b[0m_message_generator_v2\u001b[0m\u001b[0;34m(\u001b[0m\u001b[0mself\u001b[0m\u001b[0;34m)\u001b[0m\u001b[0;34m:\u001b[0m\u001b[0;34m\u001b[0m\u001b[0m\n\u001b[1;32m   1105\u001b[0m         \u001b[0mtimeout_ms\u001b[0m \u001b[0;34m=\u001b[0m \u001b[0;36m1000\u001b[0m \u001b[0;34m*\u001b[0m \u001b[0;34m(\u001b[0m\u001b[0mself\u001b[0m\u001b[0;34m.\u001b[0m\u001b[0m_consumer_timeout\u001b[0m \u001b[0;34m-\u001b[0m \u001b[0mtime\u001b[0m\u001b[0;34m.\u001b[0m\u001b[0mtime\u001b[0m\u001b[0;34m(\u001b[0m\u001b[0;34m)\u001b[0m\u001b[0;34m)\u001b[0m\u001b[0;34m\u001b[0m\u001b[0m\n\u001b[0;32m-> 1106\u001b[0;31m         \u001b[0mrecord_map\u001b[0m \u001b[0;34m=\u001b[0m \u001b[0mself\u001b[0m\u001b[0;34m.\u001b[0m\u001b[0mpoll\u001b[0m\u001b[0;34m(\u001b[0m\u001b[0mtimeout_ms\u001b[0m\u001b[0;34m=\u001b[0m\u001b[0mtimeout_ms\u001b[0m\u001b[0;34m,\u001b[0m \u001b[0mupdate_offsets\u001b[0m\u001b[0;34m=\u001b[0m\u001b[0;32mFalse\u001b[0m\u001b[0;34m)\u001b[0m\u001b[0;34m\u001b[0m\u001b[0m\n\u001b[0m\u001b[1;32m   1107\u001b[0m         \u001b[0;32mfor\u001b[0m \u001b[0mtp\u001b[0m\u001b[0;34m,\u001b[0m \u001b[0mrecords\u001b[0m \u001b[0;32min\u001b[0m \u001b[0msix\u001b[0m\u001b[0;34m.\u001b[0m\u001b[0miteritems\u001b[0m\u001b[0;34m(\u001b[0m\u001b[0mrecord_map\u001b[0m\u001b[0;34m)\u001b[0m\u001b[0;34m:\u001b[0m\u001b[0;34m\u001b[0m\u001b[0m\n\u001b[1;32m   1108\u001b[0m             \u001b[0;31m# Generators are stateful, and it is possible that the tp / records\u001b[0m\u001b[0;34m\u001b[0m\u001b[0;34m\u001b[0m\u001b[0m\n",
      "\u001b[0;32m~/opt/anaconda3/envs/opencv/lib/python3.6/site-packages/kafka/consumer/group.py\u001b[0m in \u001b[0;36mpoll\u001b[0;34m(self, timeout_ms, max_records, update_offsets)\u001b[0m\n\u001b[1;32m    643\u001b[0m         \u001b[0mremaining\u001b[0m \u001b[0;34m=\u001b[0m \u001b[0mtimeout_ms\u001b[0m\u001b[0;34m\u001b[0m\u001b[0m\n\u001b[1;32m    644\u001b[0m         \u001b[0;32mwhile\u001b[0m \u001b[0;32mTrue\u001b[0m\u001b[0;34m:\u001b[0m\u001b[0;34m\u001b[0m\u001b[0m\n\u001b[0;32m--> 645\u001b[0;31m             \u001b[0mrecords\u001b[0m \u001b[0;34m=\u001b[0m \u001b[0mself\u001b[0m\u001b[0;34m.\u001b[0m\u001b[0m_poll_once\u001b[0m\u001b[0;34m(\u001b[0m\u001b[0mremaining\u001b[0m\u001b[0;34m,\u001b[0m \u001b[0mmax_records\u001b[0m\u001b[0;34m,\u001b[0m \u001b[0mupdate_offsets\u001b[0m\u001b[0;34m=\u001b[0m\u001b[0mupdate_offsets\u001b[0m\u001b[0;34m)\u001b[0m\u001b[0;34m\u001b[0m\u001b[0m\n\u001b[0m\u001b[1;32m    646\u001b[0m             \u001b[0;32mif\u001b[0m \u001b[0mrecords\u001b[0m\u001b[0;34m:\u001b[0m\u001b[0;34m\u001b[0m\u001b[0m\n\u001b[1;32m    647\u001b[0m                 \u001b[0;32mreturn\u001b[0m \u001b[0mrecords\u001b[0m\u001b[0;34m\u001b[0m\u001b[0m\n",
      "\u001b[0;32m~/opt/anaconda3/envs/opencv/lib/python3.6/site-packages/kafka/consumer/group.py\u001b[0m in \u001b[0;36m_poll_once\u001b[0;34m(self, timeout_ms, max_records, update_offsets)\u001b[0m\n\u001b[1;32m    690\u001b[0m \u001b[0;34m\u001b[0m\u001b[0m\n\u001b[1;32m    691\u001b[0m         \u001b[0mtimeout_ms\u001b[0m \u001b[0;34m=\u001b[0m \u001b[0mmin\u001b[0m\u001b[0;34m(\u001b[0m\u001b[0mtimeout_ms\u001b[0m\u001b[0;34m,\u001b[0m \u001b[0mself\u001b[0m\u001b[0;34m.\u001b[0m\u001b[0m_coordinator\u001b[0m\u001b[0;34m.\u001b[0m\u001b[0mtime_to_next_poll\u001b[0m\u001b[0;34m(\u001b[0m\u001b[0;34m)\u001b[0m \u001b[0;34m*\u001b[0m \u001b[0;36m1000\u001b[0m\u001b[0;34m)\u001b[0m\u001b[0;34m\u001b[0m\u001b[0m\n\u001b[0;32m--> 692\u001b[0;31m         \u001b[0mself\u001b[0m\u001b[0;34m.\u001b[0m\u001b[0m_client\u001b[0m\u001b[0;34m.\u001b[0m\u001b[0mpoll\u001b[0m\u001b[0;34m(\u001b[0m\u001b[0mtimeout_ms\u001b[0m\u001b[0;34m=\u001b[0m\u001b[0mtimeout_ms\u001b[0m\u001b[0;34m)\u001b[0m\u001b[0;34m\u001b[0m\u001b[0m\n\u001b[0m\u001b[1;32m    693\u001b[0m         \u001b[0;31m# after the long poll, we should check whether the group needs to rebalance\u001b[0m\u001b[0;34m\u001b[0m\u001b[0;34m\u001b[0m\u001b[0m\n\u001b[1;32m    694\u001b[0m         \u001b[0;31m# prior to returning data so that the group can stabilize faster\u001b[0m\u001b[0;34m\u001b[0m\u001b[0;34m\u001b[0m\u001b[0m\n",
      "\u001b[0;32m~/opt/anaconda3/envs/opencv/lib/python3.6/site-packages/kafka/client_async.py\u001b[0m in \u001b[0;36mpoll\u001b[0;34m(self, timeout_ms, future)\u001b[0m\n\u001b[1;32m    596\u001b[0m                     \u001b[0mtimeout\u001b[0m \u001b[0;34m=\u001b[0m \u001b[0mmax\u001b[0m\u001b[0;34m(\u001b[0m\u001b[0;36m0\u001b[0m\u001b[0;34m,\u001b[0m \u001b[0mtimeout\u001b[0m\u001b[0;34m)\u001b[0m  \u001b[0;31m# avoid negative timeouts\u001b[0m\u001b[0;34m\u001b[0m\u001b[0m\n\u001b[1;32m    597\u001b[0m \u001b[0;34m\u001b[0m\u001b[0m\n\u001b[0;32m--> 598\u001b[0;31m                 \u001b[0mself\u001b[0m\u001b[0;34m.\u001b[0m\u001b[0m_poll\u001b[0m\u001b[0;34m(\u001b[0m\u001b[0mtimeout\u001b[0m \u001b[0;34m/\u001b[0m \u001b[0;36m1000\u001b[0m\u001b[0;34m)\u001b[0m\u001b[0;34m\u001b[0m\u001b[0m\n\u001b[0m\u001b[1;32m    599\u001b[0m \u001b[0;34m\u001b[0m\u001b[0m\n\u001b[1;32m    600\u001b[0m             \u001b[0;31m# called without the lock to avoid deadlock potential\u001b[0m\u001b[0;34m\u001b[0m\u001b[0;34m\u001b[0m\u001b[0m\n",
      "\u001b[0;32m~/opt/anaconda3/envs/opencv/lib/python3.6/site-packages/kafka/client_async.py\u001b[0m in \u001b[0;36m_poll\u001b[0;34m(self, timeout)\u001b[0m\n\u001b[1;32m    628\u001b[0m \u001b[0;34m\u001b[0m\u001b[0m\n\u001b[1;32m    629\u001b[0m         \u001b[0mstart_select\u001b[0m \u001b[0;34m=\u001b[0m \u001b[0mtime\u001b[0m\u001b[0;34m.\u001b[0m\u001b[0mtime\u001b[0m\u001b[0;34m(\u001b[0m\u001b[0;34m)\u001b[0m\u001b[0;34m\u001b[0m\u001b[0m\n\u001b[0;32m--> 630\u001b[0;31m         \u001b[0mready\u001b[0m \u001b[0;34m=\u001b[0m \u001b[0mself\u001b[0m\u001b[0;34m.\u001b[0m\u001b[0m_selector\u001b[0m\u001b[0;34m.\u001b[0m\u001b[0mselect\u001b[0m\u001b[0;34m(\u001b[0m\u001b[0mtimeout\u001b[0m\u001b[0;34m)\u001b[0m\u001b[0;34m\u001b[0m\u001b[0m\n\u001b[0m\u001b[1;32m    631\u001b[0m         \u001b[0mend_select\u001b[0m \u001b[0;34m=\u001b[0m \u001b[0mtime\u001b[0m\u001b[0;34m.\u001b[0m\u001b[0mtime\u001b[0m\u001b[0;34m(\u001b[0m\u001b[0;34m)\u001b[0m\u001b[0;34m\u001b[0m\u001b[0m\n\u001b[1;32m    632\u001b[0m         \u001b[0;32mif\u001b[0m \u001b[0mself\u001b[0m\u001b[0;34m.\u001b[0m\u001b[0m_sensors\u001b[0m\u001b[0;34m:\u001b[0m\u001b[0;34m\u001b[0m\u001b[0m\n",
      "\u001b[0;32m~/opt/anaconda3/envs/opencv/lib/python3.6/selectors.py\u001b[0m in \u001b[0;36mselect\u001b[0;34m(self, timeout)\u001b[0m\n\u001b[1;32m    575\u001b[0m             \u001b[0mready\u001b[0m \u001b[0;34m=\u001b[0m \u001b[0;34m[\u001b[0m\u001b[0;34m]\u001b[0m\u001b[0;34m\u001b[0m\u001b[0m\n\u001b[1;32m    576\u001b[0m             \u001b[0;32mtry\u001b[0m\u001b[0;34m:\u001b[0m\u001b[0;34m\u001b[0m\u001b[0m\n\u001b[0;32m--> 577\u001b[0;31m                 \u001b[0mkev_list\u001b[0m \u001b[0;34m=\u001b[0m \u001b[0mself\u001b[0m\u001b[0;34m.\u001b[0m\u001b[0m_kqueue\u001b[0m\u001b[0;34m.\u001b[0m\u001b[0mcontrol\u001b[0m\u001b[0;34m(\u001b[0m\u001b[0;32mNone\u001b[0m\u001b[0;34m,\u001b[0m \u001b[0mmax_ev\u001b[0m\u001b[0;34m,\u001b[0m \u001b[0mtimeout\u001b[0m\u001b[0;34m)\u001b[0m\u001b[0;34m\u001b[0m\u001b[0m\n\u001b[0m\u001b[1;32m    578\u001b[0m             \u001b[0;32mexcept\u001b[0m \u001b[0mInterruptedError\u001b[0m\u001b[0;34m:\u001b[0m\u001b[0;34m\u001b[0m\u001b[0m\n\u001b[1;32m    579\u001b[0m                 \u001b[0;32mreturn\u001b[0m \u001b[0mready\u001b[0m\u001b[0;34m\u001b[0m\u001b[0m\n",
      "\u001b[0;31mKeyboardInterrupt\u001b[0m: "
     ]
    }
   ],
   "source": [
    "for message in consumer:\n",
    "    # message value and key are raw bytes -- decode if necessary!\n",
    "    # e.g., for unicode: `message.value.decode('utf-8')`\n",
    "    #print (\"%s:%d:%d: key=%s value=%s\" % (message.topic, message.partition,\n",
    "    #                                      message.offset, message.key,\n",
    "    #                                      message.value))\n",
    "    print(message.value)\n",
    "    \n"
   ]
  },
  {
   "cell_type": "code",
   "execution_count": 48,
   "metadata": {},
   "outputs": [],
   "source": [
    "##### MONGODB TESTS"
   ]
  },
  {
   "cell_type": "code",
   "execution_count": 49,
   "metadata": {},
   "outputs": [],
   "source": [
    "d = dict({'Reviews': '0', 'Critic': '0', 'Country': 'USA', 'Language': 'English', 'BudgetCurrency': '$', 'BudgetValue': '100,000', 'Runtime': '80', 'Actors': '', 'IdMovie': '129423', 'IdIMDB': '0070537', 'GrossCurrency': 'NA', 'GrossValue': 0, 'OpeningWeekendCurrency': 'NA', 'OpeningWeekendValue': 0})"
   ]
  },
  {
   "cell_type": "code",
   "execution_count": 50,
   "metadata": {},
   "outputs": [
    {
     "data": {
      "text/plain": [
       "{'Reviews': '0',\n",
       " 'Critic': '0',\n",
       " 'Country': 'USA',\n",
       " 'Language': 'English',\n",
       " 'BudgetCurrency': '$',\n",
       " 'BudgetValue': '100,000',\n",
       " 'Runtime': '80',\n",
       " 'Actors': '',\n",
       " 'IdMovie': '129423',\n",
       " 'IdIMDB': '0070537',\n",
       " 'GrossCurrency': 'NA',\n",
       " 'GrossValue': 0,\n",
       " 'OpeningWeekendCurrency': 'NA',\n",
       " 'OpeningWeekendValue': 0}"
      ]
     },
     "execution_count": 50,
     "metadata": {},
     "output_type": "execute_result"
    }
   ],
   "source": [
    "d"
   ]
  },
  {
   "cell_type": "code",
   "execution_count": 51,
   "metadata": {},
   "outputs": [],
   "source": [
    "some_list = [1, 2, 3]"
   ]
  },
  {
   "cell_type": "code",
   "execution_count": 52,
   "metadata": {},
   "outputs": [
    {
     "data": {
      "text/plain": [
       "3"
      ]
     },
     "execution_count": 52,
     "metadata": {},
     "output_type": "execute_result"
    }
   ],
   "source": [
    "some_list[-1]"
   ]
  },
  {
   "cell_type": "code",
   "execution_count": 53,
   "metadata": {},
   "outputs": [],
   "source": [
    "x = {'Reviews': '0', 'Critic': '0', 'Country': 'USA', 'Language': 'English', 'Runtime': '119', 'Actors': '', 'IdMovie': '59954', 'IdIMDB': '0012752', 'Director': '', 'Writers': '', 'BudgetCurrency': 'NA', 'BudgetValue': 0, 'GrossCurrency': 'NA', 'GrossValue': 0, 'OpeningWeekendCurrency': 'NA', 'OpeningWeekendValue': 0}"
   ]
  },
  {
   "cell_type": "code",
   "execution_count": 57,
   "metadata": {},
   "outputs": [
    {
     "data": {
      "text/plain": [
       "{'Reviews': '0',\n",
       " 'Critic': '0',\n",
       " 'Country': 'USA',\n",
       " 'Language': 'English',\n",
       " 'Runtime': '119',\n",
       " 'Actors': '',\n",
       " 'IdMovie': '59954',\n",
       " 'IdIMDB': '0012752',\n",
       " 'Director': '',\n",
       " 'Writers': '',\n",
       " 'BudgetCurrency': 'NA',\n",
       " 'BudgetValue': 0,\n",
       " 'GrossCurrency': 'NA',\n",
       " 'GrossValue': 0,\n",
       " 'OpeningWeekendCurrency': 'NA',\n",
       " 'OpeningWeekendValue': 0}"
      ]
     },
     "execution_count": 57,
     "metadata": {},
     "output_type": "execute_result"
    }
   ],
   "source": [
    "x"
   ]
  },
  {
   "cell_type": "code",
   "execution_count": null,
   "metadata": {},
   "outputs": [],
   "source": []
  }
 ],
 "metadata": {
  "kernelspec": {
   "display_name": "Python 3",
   "language": "python",
   "name": "python3"
  },
  "language_info": {
   "codemirror_mode": {
    "name": "ipython",
    "version": 3
   },
   "file_extension": ".py",
   "mimetype": "text/x-python",
   "name": "python",
   "nbconvert_exporter": "python",
   "pygments_lexer": "ipython3",
   "version": "3.6.6"
  }
 },
 "nbformat": 4,
 "nbformat_minor": 2
}
