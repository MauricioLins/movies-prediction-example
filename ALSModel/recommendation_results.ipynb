{
 "cells": [
  {
   "cell_type": "code",
   "execution_count": 71,
   "metadata": {},
   "outputs": [],
   "source": [
    "from pyspark import SparkContext\n",
    "from pyspark.sql import SparkSession,SQLContext\n",
    "from pyspark.sql.functions import *\n",
    "from pyspark.sql.types import *"
   ]
  },
  {
   "cell_type": "code",
   "execution_count": 72,
   "metadata": {},
   "outputs": [],
   "source": [
    "rec_df     = spark.read.json('../results/usersrec/')\n",
    "movies_df  = spark.read.csv('../ml-latest/movies.csv',header=True,inferSchema=True)\n",
    "ratings_df = spark.read.csv('../ml-latest/ratings.csv',header=True,inferSchema=True)"
   ]
  },
  {
   "cell_type": "code",
   "execution_count": 74,
   "metadata": {},
   "outputs": [
    {
     "name": "stdout",
     "output_type": "stream",
     "text": [
      "root\n",
      " |-- itemId: string (nullable = true)\n",
      " |-- itemIndex: long (nullable = true)\n",
      " |-- rating: double (nullable = true)\n",
      " |-- userId: string (nullable = true)\n",
      " |-- userIndex: long (nullable = true)\n",
      "\n",
      "+------+---------+---------+------+---------+\n",
      "|itemId|itemIndex|   rating|userId|userIndex|\n",
      "+------+---------+---------+------+---------+\n",
      "|153034|    47502|6.8999233| 40992|      145|\n",
      "|167830|    49074|6.3971386| 40992|      145|\n",
      "|179845|    50646| 6.155308| 40992|      145|\n",
      "|184195|    51404| 6.089066| 40992|      145|\n",
      "|124061|    44864| 6.089066| 40992|      145|\n",
      "|129683|    45372|5.9753647| 40992|      145|\n",
      "|148408|    47109| 5.972332| 40992|      145|\n",
      "|159562|    48183|5.9317083| 40992|      145|\n",
      "|183363|    51259|5.8757367| 40992|      145|\n",
      "|146940|    46980| 5.861775| 40992|      145|\n",
      "|153034|    47502|6.5650244|251665|      200|\n",
      "|167830|    49074|6.4874845|251665|      200|\n",
      "|124061|    44864|5.8417153|251665|      200|\n",
      "|184195|    51404|5.8417153|251665|      200|\n",
      "|179845|    50646|5.8020363|251665|      200|\n",
      "|129683|    45372|5.6760497|251665|      200|\n",
      "|150308|    47282| 5.617823|251665|      200|\n",
      "|159562|    48183|5.6020775|251665|      200|\n",
      "|148408|    47109|5.5697393|251665|      200|\n",
      "|166701|    48944| 5.559518|251665|      200|\n",
      "+------+---------+---------+------+---------+\n",
      "only showing top 20 rows\n",
      "\n"
     ]
    }
   ],
   "source": [
    "rec_df.printSchema()\n",
    "#movies_df.printSchema()\n",
    "#ratings_df.printSchema()\n",
    "rec_df.show()"
   ]
  },
  {
   "cell_type": "code",
   "execution_count": 75,
   "metadata": {},
   "outputs": [],
   "source": [
    "rec_movies_df = rec_df.join(movies_df, rec_df.itemId == movies_df.movieId, 'inner')"
   ]
  },
  {
   "cell_type": "code",
   "execution_count": 76,
   "metadata": {},
   "outputs": [],
   "source": [
    "watched_movies_df = ratings_df.join(movies_df, ratings_df.movieId == movies_df.movieId, 'inner')\\\n",
    "                          .drop(ratings_df.movieId)"
   ]
  },
  {
   "cell_type": "code",
   "execution_count": 77,
   "metadata": {},
   "outputs": [],
   "source": [
    "# 16576 - 2136 - 8433\n",
    "varuser = 8433"
   ]
  },
  {
   "cell_type": "markdown",
   "metadata": {},
   "source": [
    "### Recommended Movies"
   ]
  },
  {
   "cell_type": "code",
   "execution_count": 79,
   "metadata": {},
   "outputs": [
    {
     "name": "stdout",
     "output_type": "stream",
     "text": [
      "+------+-------+--------------------------------------------+--------------------+---------+\n",
      "|userId|movieId|title                                       |genres              |rating   |\n",
      "+------+-------+--------------------------------------------+--------------------+---------+\n",
      "|8433  |153034 |D (2005)                                    |Crime|Drama|Thriller|6.4504957|\n",
      "|8433  |150308 |I Passed for White (1960)                   |Drama               |5.5751705|\n",
      "|8433  |77442  |Darkness and Light (Hei an zhi guang) (1999)|Drama               |5.5742846|\n",
      "|8433  |184195 |Humpty Sharma Ki Dulhania (2014)            |Comedy|Drama|Romance|5.553271 |\n",
      "|8433  |124061 |Rapture (1965)                              |Drama               |5.553271 |\n",
      "|8433  |147076 |Twilight for the Gods (1958)                |War                 |5.430531 |\n",
      "|8433  |129767 |The Police Serve the Citizens? (1973)       |Action|Crime        |5.409882 |\n",
      "|8433  |183363 |Impasse du désir (2010)                     |Thriller            |5.4096584|\n",
      "|8433  |188789 |The Cannibal That Walked Free (2007)        |Documentary         |5.3602104|\n",
      "|8433  |167830 |Freedom Road                                |(no genres listed)  |5.353334 |\n",
      "+------+-------+--------------------------------------------+--------------------+---------+\n",
      "\n"
     ]
    }
   ],
   "source": [
    "rec_movies_df.select('userId','movieId', 'title', 'genres', 'rating') \\\n",
    "             .filter(\"userId in(\" + str(varuser) + \")\").sort(rec_movies_df.rating.desc()).show(truncate=False)"
   ]
  },
  {
   "cell_type": "markdown",
   "metadata": {},
   "source": [
    "### Watched Movies"
   ]
  },
  {
   "cell_type": "code",
   "execution_count": 78,
   "metadata": {},
   "outputs": [
    {
     "name": "stdout",
     "output_type": "stream",
     "text": [
      "+------+-------+---------------------------------------------------------+-----------------------------------------------+\n",
      "|userId|movieId|title                                                    |genres                                         |\n",
      "+------+-------+---------------------------------------------------------+-----------------------------------------------+\n",
      "|8433  |47     |Seven (a.k.a. Se7en) (1995)                              |Mystery|Thriller                               |\n",
      "|8433  |150    |Apollo 13 (1995)                                         |Adventure|Drama|IMAX                           |\n",
      "|8433  |153    |Batman Forever (1995)                                    |Action|Adventure|Comedy|Crime                  |\n",
      "|8433  |161    |Crimson Tide (1995)                                      |Drama|Thriller|War                             |\n",
      "|8433  |165    |Die Hard: With a Vengeance (1995)                        |Action|Crime|Thriller                          |\n",
      "|8433  |231    |Dumb & Dumber (Dumb and Dumber) (1994)                   |Adventure|Comedy                               |\n",
      "|8433  |253    |Interview with the Vampire: The Vampire Chronicles (1994)|Drama|Horror                                   |\n",
      "|8433  |292    |Outbreak (1995)                                          |Action|Drama|Sci-Fi|Thriller                   |\n",
      "|8433  |296    |Pulp Fiction (1994)                                      |Comedy|Crime|Drama|Thriller                    |\n",
      "|8433  |316    |Stargate (1994)                                          |Action|Adventure|Sci-Fi                        |\n",
      "|8433  |329    |Star Trek: Generations (1994)                            |Adventure|Drama|Sci-Fi                         |\n",
      "|8433  |344    |Ace Ventura: Pet Detective (1994)                        |Comedy                                         |\n",
      "|8433  |349    |Clear and Present Danger (1994)                          |Action|Crime|Drama|Thriller                    |\n",
      "|8433  |364    |Lion King, The (1994)                                    |Adventure|Animation|Children|Drama|Musical|IMAX|\n",
      "|8433  |367    |Mask, The (1994)                                         |Action|Comedy|Crime|Fantasy                    |\n",
      "|8433  |377    |Speed (1994)                                             |Action|Romance|Thriller                        |\n",
      "|8433  |380    |True Lies (1994)                                         |Action|Adventure|Comedy|Romance|Thriller       |\n",
      "|8433  |410    |Addams Family Values (1993)                              |Children|Comedy|Fantasy                        |\n",
      "|8433  |434    |Cliffhanger (1993)                                       |Action|Adventure|Thriller                      |\n",
      "|8433  |454    |Firm, The (1993)                                         |Drama|Thriller                                 |\n",
      "+------+-------+---------------------------------------------------------+-----------------------------------------------+\n",
      "only showing top 20 rows\n",
      "\n"
     ]
    }
   ],
   "source": [
    "watched_movies_df.select('userId','movieId', 'title', 'genres') \\\n",
    "                 .filter(\"userId in(\" + str(varuser) + \")\").show(truncate=False)"
   ]
  },
  {
   "cell_type": "code",
   "execution_count": null,
   "metadata": {},
   "outputs": [],
   "source": []
  }
 ],
 "metadata": {
  "kernelspec": {
   "display_name": "Python 3",
   "language": "python",
   "name": "python3"
  },
  "language_info": {
   "codemirror_mode": {
    "name": "ipython",
    "version": 3
   },
   "file_extension": ".py",
   "mimetype": "text/x-python",
   "name": "python",
   "nbconvert_exporter": "python",
   "pygments_lexer": "ipython3",
   "version": "3.6.6"
  }
 },
 "nbformat": 4,
 "nbformat_minor": 2
}
